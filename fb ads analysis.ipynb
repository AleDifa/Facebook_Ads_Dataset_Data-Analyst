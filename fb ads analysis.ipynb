{
 "cells": [
  {
   "cell_type": "markdown",
   "metadata": {},
   "source": [
    "### FB ADS ANALYSIS "
   ]
  },
  {
   "cell_type": "markdown",
   "metadata": {},
   "source": [
    "##### Features:\n",
    "\n",
    "* Interest1,2,3: are the user interests and likes of facebook users who were taregted for the ad, we not use for this wok\n"
   ]
  },
  {
   "cell_type": "markdown",
   "metadata": {},
   "source": [
    "#### Steps:\n",
    "\n",
    "* Cleaning data\n",
    "* Marketing metrics (KPIs)missing we, creating additional features\n",
    " 1. Click-through-rate (CTR)\n",
    " 2. Cost Per Click (CPC)\n",
    " 3. Cost Per Action\n",
    " 4. Cost Per Thousand/Mille (CPM)\n",
    "* Identifying the best parameters of each feature for efficient ads and High Roas\n",
    "* Final suggestions for the ideal campaign\n"
   ]
  },
  {
   "cell_type": "code",
   "execution_count": 169,
   "metadata": {},
   "outputs": [],
   "source": [
    "import pandas as pd \n",
    "df= pd.read_csv(\"C:/Users/Alessandro/Desktop/fb ads/df ads.csv\")"
   ]
  },
  {
   "cell_type": "code",
   "execution_count": 170,
   "metadata": {},
   "outputs": [],
   "source": [
    "#df.info()"
   ]
  },
  {
   "cell_type": "code",
   "execution_count": 171,
   "metadata": {},
   "outputs": [
    {
     "data": {
      "text/plain": [
       "(1143, 21)"
      ]
     },
     "execution_count": 171,
     "metadata": {},
     "output_type": "execute_result"
    }
   ],
   "source": [
    "df.shape\n",
    "# There are 15 columns and 1143 rows"
   ]
  },
  {
   "cell_type": "code",
   "execution_count": 172,
   "metadata": {},
   "outputs": [
    {
     "name": "stdout",
     "output_type": "stream",
     "text": [
      "ad_id - 0.0%\n",
      "AdText - 2.0%\n",
      "reporting_start - 0.0%\n",
      "reporting_end - 0.0%\n",
      "campaign_id - 0.0%\n",
      "Location - 0.0%\n",
      "Placements - 0.0%\n",
      "fb_campaign_id - 0.0%\n",
      "PeopleWhoMatch - 71.0%\n",
      "age - 0.0%\n",
      "gender - 0.0%\n",
      "Politics - 100.0%\n",
      "AdSpendCurrency - 27.0%\n",
      "interest1 - 0.0%\n",
      "interest2 - 0.0%\n",
      "interest3 - 0.0%\n",
      "impressions - 0.0%\n",
      "clicks - 0.0%\n",
      "spent - 0.0%\n",
      "total_conversion - 33.0%\n",
      "approved_conversion - 33.0%\n"
     ]
    }
   ],
   "source": [
    "#This produces a list below showing the percentage of missing values for each of the features.\n",
    "\n",
    "import numpy as np\n",
    "for col in df.columns:\n",
    "    pct_missing = np.mean(df[col].isnull())\n",
    "    print('{} - {}%'.format(col, round(pct_missing*100)))"
   ]
  },
  {
   "cell_type": "code",
   "execution_count": 173,
   "metadata": {},
   "outputs": [
    {
     "data": {
      "text/plain": [
       "RUB    834\n",
       "Name: AdSpendCurrency, dtype: int64"
      ]
     },
     "execution_count": 173,
     "metadata": {},
     "output_type": "execute_result"
    }
   ],
   "source": [
    "# take Ad Spend Currency, 27% of data are miss, 834-1143= 309 value miss\n",
    "df[\"AdSpendCurrency\"].value_counts()"
   ]
  },
  {
   "cell_type": "code",
   "execution_count": 174,
   "metadata": {},
   "outputs": [
    {
     "data": {
      "text/plain": [
       "RUB    834\n",
       "NaN    309\n",
       "Name: AdSpendCurrency, dtype: int64"
      ]
     },
     "execution_count": 174,
     "metadata": {},
     "output_type": "execute_result"
    }
   ],
   "source": [
    "# Calculate the value\n",
    "df['AdSpendCurrency'].value_counts(dropna=False)\n",
    "#df['AdSpendCurrency'].isnull().value_counts()"
   ]
  },
  {
   "cell_type": "code",
   "execution_count": 175,
   "metadata": {},
   "outputs": [],
   "source": [
    "# Replace a specif column with Text(str) in this case Fill NaN values and change with USD text.\n",
    "df['AdSpendCurrency'].fillna('USD', inplace=True)"
   ]
  },
  {
   "cell_type": "code",
   "execution_count": 176,
   "metadata": {},
   "outputs": [
    {
     "data": {
      "text/plain": [
       "RUB    834\n",
       "USD    309\n",
       "Name: AdSpendCurrency, dtype: int64"
      ]
     },
     "execution_count": 176,
     "metadata": {},
     "output_type": "execute_result"
    }
   ],
   "source": [
    "# show me the replace values\n",
    "df['AdSpendCurrency'].value_counts(dropna=False)"
   ]
  },
  {
   "cell_type": "code",
   "execution_count": 177,
   "metadata": {},
   "outputs": [
    {
     "data": {
      "text/plain": [
       "1.0     546\n",
       "NaN     382\n",
       "2.0      89\n",
       "3.0      34\n",
       "4.0      26\n",
       "5.0      19\n",
       "7.0       9\n",
       "0.0       5\n",
       "6.0       5\n",
       "22.0      4\n",
       "13.0      4\n",
       "8.0       3\n",
       "11.0      3\n",
       "17.0      2\n",
       "10.0      2\n",
       "28.0      1\n",
       "60.0      1\n",
       "24.0      1\n",
       "15.0      1\n",
       "26.0      1\n",
       "20.0      1\n",
       "9.0       1\n",
       "23.0      1\n",
       "31.0      1\n",
       "40.0      1\n",
       "Name: total_conversion, dtype: int64"
      ]
     },
     "execution_count": 177,
     "metadata": {},
     "output_type": "execute_result"
    }
   ],
   "source": [
    "# 382 value with NaN, 33% of missing data 382-1143= 761 valid data \n",
    "df[\"total_conversion\"].value_counts(dropna=False)"
   ]
  },
  {
   "cell_type": "code",
   "execution_count": 178,
   "metadata": {},
   "outputs": [
    {
     "data": {
      "text/plain": [
       "1.0     546\n",
       "0.0     387\n",
       "2.0      89\n",
       "3.0      34\n",
       "4.0      26\n",
       "5.0      19\n",
       "7.0       9\n",
       "6.0       5\n",
       "22.0      4\n",
       "13.0      4\n",
       "11.0      3\n",
       "8.0       3\n",
       "10.0      2\n",
       "17.0      2\n",
       "28.0      1\n",
       "31.0      1\n",
       "23.0      1\n",
       "9.0       1\n",
       "20.0      1\n",
       "24.0      1\n",
       "60.0      1\n",
       "40.0      1\n",
       "26.0      1\n",
       "15.0      1\n",
       "Name: total_conversion, dtype: int64"
      ]
     },
     "execution_count": 178,
     "metadata": {},
     "output_type": "execute_result"
    }
   ],
   "source": [
    "df['total_conversion'].fillna(0.0, inplace=True)\n",
    "df[\"total_conversion\"].value_counts(dropna=False)"
   ]
  },
  {
   "cell_type": "code",
   "execution_count": 179,
   "metadata": {},
   "outputs": [
    {
     "data": {
      "text/plain": [
       "0.0     408\n",
       "NaN     382\n",
       "1.0     273\n",
       "2.0      43\n",
       "3.0      15\n",
       "4.0       6\n",
       "8.0       3\n",
       "6.0       2\n",
       "7.0       2\n",
       "5.0       2\n",
       "14.0      2\n",
       "12.0      1\n",
       "9.0       1\n",
       "21.0      1\n",
       "17.0      1\n",
       "10.0      1\n",
       "Name: approved_conversion, dtype: int64"
      ]
     },
     "execution_count": 179,
     "metadata": {},
     "output_type": "execute_result"
    }
   ],
   "source": [
    "df['approved_conversion'].value_counts(dropna=False)"
   ]
  },
  {
   "cell_type": "code",
   "execution_count": 180,
   "metadata": {},
   "outputs": [
    {
     "data": {
      "text/plain": [
       "0.0     790\n",
       "1.0     273\n",
       "2.0      43\n",
       "3.0      15\n",
       "4.0       6\n",
       "8.0       3\n",
       "6.0       2\n",
       "7.0       2\n",
       "5.0       2\n",
       "14.0      2\n",
       "12.0      1\n",
       "9.0       1\n",
       "21.0      1\n",
       "17.0      1\n",
       "10.0      1\n",
       "Name: approved_conversion, dtype: int64"
      ]
     },
     "execution_count": 180,
     "metadata": {},
     "output_type": "execute_result"
    }
   ],
   "source": [
    "df['approved_conversion'].fillna(0.0, inplace=True)\n",
    "df[\"approved_conversion\"].value_counts(dropna=False)"
   ]
  },
  {
   "cell_type": "code",
   "execution_count": 181,
   "metadata": {},
   "outputs": [
    {
     "name": "stdout",
     "output_type": "stream",
     "text": [
      "ad_id - 0.0%\n",
      "AdText - 2.0%\n",
      "reporting_start - 0.0%\n",
      "reporting_end - 0.0%\n",
      "campaign_id - 0.0%\n",
      "Location - 0.0%\n",
      "Placements - 0.0%\n",
      "fb_campaign_id - 0.0%\n",
      "PeopleWhoMatch - 71.0%\n",
      "age - 0.0%\n",
      "gender - 0.0%\n",
      "Politics - 100.0%\n",
      "AdSpendCurrency - 0.0%\n",
      "interest1 - 0.0%\n",
      "interest2 - 0.0%\n",
      "interest3 - 0.0%\n",
      "impressions - 0.0%\n",
      "clicks - 0.0%\n",
      "spent - 0.0%\n",
      "total_conversion - 0.0%\n",
      "approved_conversion - 0.0%\n"
     ]
    }
   ],
   "source": [
    "#Now we have 0% of Nan values in the columns we need\n",
    "for col in df.columns:\n",
    "    pct_missing = np.mean(df[col].isnull())\n",
    "    print('{} - {}%'.format(col, round(pct_missing*100)))"
   ]
  },
  {
   "cell_type": "code",
   "execution_count": null,
   "metadata": {},
   "outputs": [],
   "source": []
  },
  {
   "cell_type": "markdown",
   "metadata": {},
   "source": [
    "#### marketing metrics missing that can be added to drive more useful information from this dataset.\n",
    "\n",
    "\n",
    "* Click-through-rate (CTR): \n",
    "    1. Refers to percentage of impressions that became clicks. \n",
    "    2. This metric helps understanding the success of an Ad and how engaging they are.\n",
    "\n",
    "\n",
    "* Cost Per Click (CPC): \n",
    "    1. Denotes how much did each click cost. \n",
    "    2. This is useful for advertisers who have a set budget and do not want to overspent.\n",
    "\n",
    "\n",
    "* Cost Per Acquisition(CPA): \n",
    "    1. identify the cost of a specific action performed by a user\n",
    "    2. Is calculated as the cost divided by the number of actions being measured\n",
    "\n",
    "\n",
    "* Cost Per Thousand/Mille (CPM): \n",
    "    1. Defines the price of 1,000 advertisement impression on one ad. \n",
    "    2. It is useful for campaigns that are focused on brand awareness."
   ]
  },
  {
   "cell_type": "code",
   "execution_count": 183,
   "metadata": {},
   "outputs": [
    {
     "data": {
      "text/html": [
       "<div>\n",
       "<style scoped>\n",
       "    .dataframe tbody tr th:only-of-type {\n",
       "        vertical-align: middle;\n",
       "    }\n",
       "\n",
       "    .dataframe tbody tr th {\n",
       "        vertical-align: top;\n",
       "    }\n",
       "\n",
       "    .dataframe thead th {\n",
       "        text-align: right;\n",
       "    }\n",
       "</style>\n",
       "<table border=\"1\" class=\"dataframe\">\n",
       "  <thead>\n",
       "    <tr style=\"text-align: right;\">\n",
       "      <th></th>\n",
       "      <th>ad_id</th>\n",
       "      <th>AdText</th>\n",
       "      <th>reporting_start</th>\n",
       "      <th>reporting_end</th>\n",
       "      <th>campaign_id</th>\n",
       "      <th>Location</th>\n",
       "      <th>Placements</th>\n",
       "      <th>fb_campaign_id</th>\n",
       "      <th>PeopleWhoMatch</th>\n",
       "      <th>age</th>\n",
       "      <th>...</th>\n",
       "      <th>Politics</th>\n",
       "      <th>AdSpendCurrency</th>\n",
       "      <th>interest1</th>\n",
       "      <th>interest2</th>\n",
       "      <th>interest3</th>\n",
       "      <th>impressions</th>\n",
       "      <th>clicks</th>\n",
       "      <th>spent</th>\n",
       "      <th>total_conversion</th>\n",
       "      <th>approved_conversion</th>\n",
       "    </tr>\n",
       "  </thead>\n",
       "  <tbody>\n",
       "    <tr>\n",
       "      <th>0</th>\n",
       "      <td>708746</td>\n",
       "      <td>Join us because we care. Black matters.</td>\n",
       "      <td>17/08/2017</td>\n",
       "      <td>17/08/2017</td>\n",
       "      <td>916</td>\n",
       "      <td>United States: Baltimore (+20 km) Maryland; St...</td>\n",
       "      <td>News Feed on desktop computers or News Feed on...</td>\n",
       "      <td>103916</td>\n",
       "      <td>NaN</td>\n",
       "      <td>30</td>\n",
       "      <td>...</td>\n",
       "      <td>NaN</td>\n",
       "      <td>RUB</td>\n",
       "      <td>15</td>\n",
       "      <td>17</td>\n",
       "      <td>17</td>\n",
       "      <td>7350.0</td>\n",
       "      <td>1</td>\n",
       "      <td>1.43</td>\n",
       "      <td>2.0</td>\n",
       "      <td>1.0</td>\n",
       "    </tr>\n",
       "  </tbody>\n",
       "</table>\n",
       "<p>1 rows × 21 columns</p>\n",
       "</div>"
      ],
      "text/plain": [
       "    ad_id                                   AdText reporting_start  \\\n",
       "0  708746  Join us because we care. Black matters.      17/08/2017   \n",
       "\n",
       "  reporting_end campaign_id  \\\n",
       "0    17/08/2017         916   \n",
       "\n",
       "                                            Location  \\\n",
       "0  United States: Baltimore (+20 km) Maryland; St...   \n",
       "\n",
       "                                          Placements fb_campaign_id  \\\n",
       "0  News Feed on desktop computers or News Feed on...         103916   \n",
       "\n",
       "  PeopleWhoMatch  age  ... Politics AdSpendCurrency interest1  interest2  \\\n",
       "0            NaN   30  ...      NaN             RUB        15         17   \n",
       "\n",
       "   interest3  impressions  clicks  spent  total_conversion  \\\n",
       "0         17       7350.0       1   1.43               2.0   \n",
       "\n",
       "   approved_conversion  \n",
       "0                  1.0  \n",
       "\n",
       "[1 rows x 21 columns]"
      ]
     },
     "execution_count": 183,
     "metadata": {},
     "output_type": "execute_result"
    }
   ],
   "source": [
    "df.head(1)"
   ]
  },
  {
   "cell_type": "code",
   "execution_count": 184,
   "metadata": {},
   "outputs": [],
   "source": [
    "df[\"CTR\"] = df[\"clicks\"]/ df[\"impressions\"]*100"
   ]
  },
  {
   "cell_type": "code",
   "execution_count": 185,
   "metadata": {},
   "outputs": [],
   "source": [
    "df[\"CPC\"] = df[\"spent\"]/ df[\"clicks\"]"
   ]
  },
  {
   "cell_type": "code",
   "execution_count": 186,
   "metadata": {},
   "outputs": [],
   "source": [
    "df[\"CPM\"] = df[\"spent\"]/ df[\"impressions\"]*1000"
   ]
  },
  {
   "cell_type": "code",
   "execution_count": 187,
   "metadata": {},
   "outputs": [],
   "source": [
    "df[\"CPA\"] = df[\"spent\"]/ df[\"total_conversion\"]"
   ]
  },
  {
   "cell_type": "code",
   "execution_count": 188,
   "metadata": {},
   "outputs": [
    {
     "data": {
      "text/html": [
       "<div>\n",
       "<style scoped>\n",
       "    .dataframe tbody tr th:only-of-type {\n",
       "        vertical-align: middle;\n",
       "    }\n",
       "\n",
       "    .dataframe tbody tr th {\n",
       "        vertical-align: top;\n",
       "    }\n",
       "\n",
       "    .dataframe thead th {\n",
       "        text-align: right;\n",
       "    }\n",
       "</style>\n",
       "<table border=\"1\" class=\"dataframe\">\n",
       "  <thead>\n",
       "    <tr style=\"text-align: right;\">\n",
       "      <th></th>\n",
       "      <th>ad_id</th>\n",
       "      <th>AdText</th>\n",
       "      <th>reporting_start</th>\n",
       "      <th>reporting_end</th>\n",
       "      <th>campaign_id</th>\n",
       "      <th>Location</th>\n",
       "      <th>Placements</th>\n",
       "      <th>fb_campaign_id</th>\n",
       "      <th>PeopleWhoMatch</th>\n",
       "      <th>age</th>\n",
       "      <th>...</th>\n",
       "      <th>interest3</th>\n",
       "      <th>impressions</th>\n",
       "      <th>clicks</th>\n",
       "      <th>spent</th>\n",
       "      <th>total_conversion</th>\n",
       "      <th>approved_conversion</th>\n",
       "      <th>CTR</th>\n",
       "      <th>CPC</th>\n",
       "      <th>CPM</th>\n",
       "      <th>CPA</th>\n",
       "    </tr>\n",
       "  </thead>\n",
       "  <tbody>\n",
       "    <tr>\n",
       "      <th>0</th>\n",
       "      <td>708746</td>\n",
       "      <td>Join us because we care. Black matters.</td>\n",
       "      <td>17/08/2017</td>\n",
       "      <td>17/08/2017</td>\n",
       "      <td>916</td>\n",
       "      <td>United States: Baltimore (+20 km) Maryland; St...</td>\n",
       "      <td>News Feed on desktop computers or News Feed on...</td>\n",
       "      <td>103916</td>\n",
       "      <td>NaN</td>\n",
       "      <td>30</td>\n",
       "      <td>...</td>\n",
       "      <td>17</td>\n",
       "      <td>7350.0</td>\n",
       "      <td>1</td>\n",
       "      <td>1.43</td>\n",
       "      <td>2.0</td>\n",
       "      <td>1.0</td>\n",
       "      <td>0.013605</td>\n",
       "      <td>1.43</td>\n",
       "      <td>0.194558</td>\n",
       "      <td>0.715</td>\n",
       "    </tr>\n",
       "  </tbody>\n",
       "</table>\n",
       "<p>1 rows × 25 columns</p>\n",
       "</div>"
      ],
      "text/plain": [
       "    ad_id                                   AdText reporting_start  \\\n",
       "0  708746  Join us because we care. Black matters.      17/08/2017   \n",
       "\n",
       "  reporting_end campaign_id  \\\n",
       "0    17/08/2017         916   \n",
       "\n",
       "                                            Location  \\\n",
       "0  United States: Baltimore (+20 km) Maryland; St...   \n",
       "\n",
       "                                          Placements fb_campaign_id  \\\n",
       "0  News Feed on desktop computers or News Feed on...         103916   \n",
       "\n",
       "  PeopleWhoMatch  age  ... interest3 impressions clicks  spent  \\\n",
       "0            NaN   30  ...        17      7350.0      1   1.43   \n",
       "\n",
       "   total_conversion  approved_conversion       CTR   CPC       CPM    CPA  \n",
       "0               2.0                  1.0  0.013605  1.43  0.194558  0.715  \n",
       "\n",
       "[1 rows x 25 columns]"
      ]
     },
     "execution_count": 188,
     "metadata": {},
     "output_type": "execute_result"
    }
   ],
   "source": [
    "df.head(1)"
   ]
  },
  {
   "cell_type": "code",
   "execution_count": 189,
   "metadata": {},
   "outputs": [
    {
     "data": {
      "text/plain": [
       "4"
      ]
     },
     "execution_count": 189,
     "metadata": {},
     "output_type": "execute_result"
    }
   ],
   "source": [
    "# Again we have some Nan values may be generated by division float for int\n",
    "df[\"CPM\"].isnull().sum()"
   ]
  },
  {
   "cell_type": "code",
   "execution_count": 190,
   "metadata": {},
   "outputs": [
    {
     "data": {
      "text/plain": [
       "0.000000      350\n",
       "NaN             4\n",
       "0.469990        1\n",
       "0.074587        1\n",
       "578.034676      1\n",
       "             ... \n",
       "0.458131        1\n",
       "0.285714        1\n",
       "0.164685        1\n",
       "0.290505        1\n",
       "0.232191        1\n",
       "Name: CPM, Length: 791, dtype: int64"
      ]
     },
     "execution_count": 190,
     "metadata": {},
     "output_type": "execute_result"
    }
   ],
   "source": [
    "df[\"CPM\"].value_counts(dropna=False)\n",
    "#df[\"CPM\"].isnull.value_counts()"
   ]
  },
  {
   "cell_type": "code",
   "execution_count": 191,
   "metadata": {},
   "outputs": [
    {
     "name": "stdout",
     "output_type": "stream",
     "text": [
      "ad_id - 0.0%\n",
      "AdText - 2.0%\n",
      "reporting_start - 0.0%\n",
      "reporting_end - 0.0%\n",
      "campaign_id - 0.0%\n",
      "Location - 0.0%\n",
      "Placements - 0.0%\n",
      "fb_campaign_id - 0.0%\n",
      "PeopleWhoMatch - 71.0%\n",
      "age - 0.0%\n",
      "gender - 0.0%\n",
      "Politics - 100.0%\n",
      "AdSpendCurrency - 0.0%\n",
      "interest1 - 0.0%\n",
      "interest2 - 0.0%\n",
      "interest3 - 0.0%\n",
      "impressions - 0.0%\n",
      "clicks - 0.0%\n",
      "spent - 0.0%\n",
      "total_conversion - 0.0%\n",
      "approved_conversion - 0.0%\n",
      "CTR - 0.0%\n",
      "CPC - 18.0%\n",
      "CPM - 0.0%\n",
      "CPA - 13.0%\n"
     ]
    }
   ],
   "source": [
    "for col in df.columns:\n",
    "    pct_missing = np.mean(df[col].isnull())\n",
    "    print('{} - {}%'.format(col, round(pct_missing*100)))"
   ]
  },
  {
   "cell_type": "code",
   "execution_count": 192,
   "metadata": {},
   "outputs": [],
   "source": [
    "df['CPM'].fillna(0.0, inplace=True)\n",
    "df['CTR'].fillna(0.0, inplace=True)\n",
    "df['CPC'].fillna(0.0, inplace=True)\n",
    "df['CPA'].fillna(0.0, inplace=True)"
   ]
  },
  {
   "cell_type": "code",
   "execution_count": 193,
   "metadata": {},
   "outputs": [
    {
     "data": {
      "text/plain": [
       "0.00     354\n",
       "inf      233\n",
       "1.38       5\n",
       "1.29       4\n",
       "1.50       3\n",
       "        ... \n",
       "4.26       1\n",
       "20.18      1\n",
       "10.03      1\n",
       "5.49       1\n",
       "8.86       1\n",
       "Name: CPA, Length: 501, dtype: int64"
      ]
     },
     "execution_count": 193,
     "metadata": {},
     "output_type": "execute_result"
    }
   ],
   "source": [
    "# we have generate some inf value in CPA and CTR, need clean this value\n",
    "df[\"CPA\"].value_counts(dropna=False)"
   ]
  },
  {
   "cell_type": "code",
   "execution_count": 194,
   "metadata": {},
   "outputs": [],
   "source": [
    "#This in Numpy replace all +inf -inf in df with nan\n",
    "df.replace([np.inf, -np.inf], np.nan,inplace=True)"
   ]
  },
  {
   "cell_type": "code",
   "execution_count": 195,
   "metadata": {},
   "outputs": [
    {
     "data": {
      "text/plain": [
       "0.00     354\n",
       "NaN      233\n",
       "1.38       5\n",
       "1.29       4\n",
       "1.50       3\n",
       "        ... \n",
       "4.26       1\n",
       "20.18      1\n",
       "10.03      1\n",
       "5.49       1\n",
       "8.86       1\n",
       "Name: CPA, Length: 501, dtype: int64"
      ]
     },
     "execution_count": 195,
     "metadata": {},
     "output_type": "execute_result"
    }
   ],
   "source": [
    "df[\"CPA\"].value_counts(dropna=False)"
   ]
  },
  {
   "cell_type": "code",
   "execution_count": 196,
   "metadata": {},
   "outputs": [],
   "source": [
    "df['CPM'].fillna(0.0, inplace=True)\n",
    "df['CTR'].fillna(0.0, inplace=True)\n",
    "df['CPC'].fillna(0.0, inplace=True)\n",
    "df['CPA'].fillna(0.0, inplace=True)"
   ]
  },
  {
   "cell_type": "code",
   "execution_count": 197,
   "metadata": {},
   "outputs": [
    {
     "data": {
      "text/plain": [
       "0.000000      354\n",
       "0.125274        1\n",
       "0.162336        1\n",
       "0.074587        1\n",
       "578.034676      1\n",
       "             ... \n",
       "106.269926      1\n",
       "0.458131        1\n",
       "0.285714        1\n",
       "0.164685        1\n",
       "0.232191        1\n",
       "Name: CPM, Length: 790, dtype: int64"
      ]
     },
     "execution_count": 197,
     "metadata": {},
     "output_type": "execute_result"
    }
   ],
   "source": [
    "df[\"CPM\"].value_counts(dropna=False)"
   ]
  },
  {
   "cell_type": "code",
   "execution_count": 198,
   "metadata": {},
   "outputs": [
    {
     "name": "stdout",
     "output_type": "stream",
     "text": [
      "ad_id - 0.0%\n",
      "AdText - 2.0%\n",
      "reporting_start - 0.0%\n",
      "reporting_end - 0.0%\n",
      "campaign_id - 0.0%\n",
      "Location - 0.0%\n",
      "Placements - 0.0%\n",
      "fb_campaign_id - 0.0%\n",
      "PeopleWhoMatch - 71.0%\n",
      "age - 0.0%\n",
      "gender - 0.0%\n",
      "Politics - 100.0%\n",
      "AdSpendCurrency - 0.0%\n",
      "interest1 - 0.0%\n",
      "interest2 - 0.0%\n",
      "interest3 - 0.0%\n",
      "impressions - 0.0%\n",
      "clicks - 0.0%\n",
      "spent - 0.0%\n",
      "total_conversion - 0.0%\n",
      "approved_conversion - 0.0%\n",
      "CTR - 0.0%\n",
      "CPC - 0.0%\n",
      "CPM - 0.0%\n",
      "CPA - 0.0%\n"
     ]
    }
   ],
   "source": [
    "# Now we have clean the KPIs metrics\n",
    "for col in df.columns:\n",
    "    pct_missing = np.mean(df[col].isnull())\n",
    "    print('{} - {}%'.format(col, round(pct_missing*100)))"
   ]
  },
  {
   "cell_type": "code",
   "execution_count": 199,
   "metadata": {},
   "outputs": [
    {
     "data": {
      "text/html": [
       "<div>\n",
       "<style scoped>\n",
       "    .dataframe tbody tr th:only-of-type {\n",
       "        vertical-align: middle;\n",
       "    }\n",
       "\n",
       "    .dataframe tbody tr th {\n",
       "        vertical-align: top;\n",
       "    }\n",
       "\n",
       "    .dataframe thead th {\n",
       "        text-align: right;\n",
       "    }\n",
       "</style>\n",
       "<table border=\"1\" class=\"dataframe\">\n",
       "  <thead>\n",
       "    <tr style=\"text-align: right;\">\n",
       "      <th></th>\n",
       "      <th>ad_id</th>\n",
       "      <th>AdText</th>\n",
       "      <th>reporting_start</th>\n",
       "      <th>reporting_end</th>\n",
       "      <th>campaign_id</th>\n",
       "      <th>Location</th>\n",
       "      <th>Placements</th>\n",
       "      <th>fb_campaign_id</th>\n",
       "      <th>PeopleWhoMatch</th>\n",
       "      <th>age</th>\n",
       "      <th>...</th>\n",
       "      <th>interest3</th>\n",
       "      <th>impressions</th>\n",
       "      <th>clicks</th>\n",
       "      <th>spent</th>\n",
       "      <th>total_conversion</th>\n",
       "      <th>approved_conversion</th>\n",
       "      <th>CTR</th>\n",
       "      <th>CPC</th>\n",
       "      <th>CPM</th>\n",
       "      <th>CPA</th>\n",
       "    </tr>\n",
       "  </thead>\n",
       "  <tbody>\n",
       "    <tr>\n",
       "      <th>0</th>\n",
       "      <td>708746</td>\n",
       "      <td>Join us because we care. Black matters.</td>\n",
       "      <td>17/08/2017</td>\n",
       "      <td>17/08/2017</td>\n",
       "      <td>916</td>\n",
       "      <td>United States: Baltimore (+20 km) Maryland; St...</td>\n",
       "      <td>News Feed on desktop computers or News Feed on...</td>\n",
       "      <td>103916</td>\n",
       "      <td>NaN</td>\n",
       "      <td>30</td>\n",
       "      <td>...</td>\n",
       "      <td>17</td>\n",
       "      <td>7350.0</td>\n",
       "      <td>1</td>\n",
       "      <td>1.43</td>\n",
       "      <td>2.0</td>\n",
       "      <td>1.0</td>\n",
       "      <td>0.01</td>\n",
       "      <td>1.43</td>\n",
       "      <td>0.19</td>\n",
       "      <td>0.71</td>\n",
       "    </tr>\n",
       "  </tbody>\n",
       "</table>\n",
       "<p>1 rows × 25 columns</p>\n",
       "</div>"
      ],
      "text/plain": [
       "    ad_id                                   AdText reporting_start  \\\n",
       "0  708746  Join us because we care. Black matters.      17/08/2017   \n",
       "\n",
       "  reporting_end campaign_id  \\\n",
       "0    17/08/2017         916   \n",
       "\n",
       "                                            Location  \\\n",
       "0  United States: Baltimore (+20 km) Maryland; St...   \n",
       "\n",
       "                                          Placements fb_campaign_id  \\\n",
       "0  News Feed on desktop computers or News Feed on...         103916   \n",
       "\n",
       "  PeopleWhoMatch  age  ... interest3 impressions clicks  spent  \\\n",
       "0            NaN   30  ...        17      7350.0      1   1.43   \n",
       "\n",
       "   total_conversion  approved_conversion   CTR   CPC   CPM   CPA  \n",
       "0               2.0                  1.0  0.01  1.43  0.19  0.71  \n",
       "\n",
       "[1 rows x 25 columns]"
      ]
     },
     "execution_count": 199,
     "metadata": {},
     "output_type": "execute_result"
    }
   ],
   "source": [
    "#round the KPI \n",
    "df.round({\"spent\":2,'CTR': 2, 'CPC': 2, \"CPM\":2, \"CPA\":2}).head(1)"
   ]
  },
  {
   "cell_type": "code",
   "execution_count": 200,
   "metadata": {},
   "outputs": [],
   "source": [
    "#Top 10 ad_ids by number of impressions\n",
    "\n",
    "df1= df.sort_values(by=['impressions'], ascending=False).head(10)"
   ]
  },
  {
   "cell_type": "code",
   "execution_count": 201,
   "metadata": {},
   "outputs": [],
   "source": [
    "df2= df1[[\"ad_id\",\"spent\",\"clicks\",'impressions','CTR','CPC','CPM',\"CPA\"]].round(2)"
   ]
  },
  {
   "cell_type": "code",
   "execution_count": 202,
   "metadata": {},
   "outputs": [
    {
     "data": {
      "text/html": [
       "<div>\n",
       "<style scoped>\n",
       "    .dataframe tbody tr th:only-of-type {\n",
       "        vertical-align: middle;\n",
       "    }\n",
       "\n",
       "    .dataframe tbody tr th {\n",
       "        vertical-align: top;\n",
       "    }\n",
       "\n",
       "    .dataframe thead th {\n",
       "        text-align: right;\n",
       "    }\n",
       "</style>\n",
       "<table border=\"1\" class=\"dataframe\">\n",
       "  <thead>\n",
       "    <tr style=\"text-align: right;\">\n",
       "      <th></th>\n",
       "      <th>ad_id</th>\n",
       "      <th>spent</th>\n",
       "      <th>clicks</th>\n",
       "      <th>impressions</th>\n",
       "      <th>CTR</th>\n",
       "      <th>CPC</th>\n",
       "      <th>CPM</th>\n",
       "      <th>CPA</th>\n",
       "    </tr>\n",
       "  </thead>\n",
       "  <tbody>\n",
       "    <tr>\n",
       "      <th>525</th>\n",
       "      <td>1121100</td>\n",
       "      <td>639.95</td>\n",
       "      <td>340</td>\n",
       "      <td>3052003.0</td>\n",
       "      <td>0.01</td>\n",
       "      <td>1.88</td>\n",
       "      <td>0.21</td>\n",
       "      <td>10.67</td>\n",
       "    </tr>\n",
       "    <tr>\n",
       "      <th>528</th>\n",
       "      <td>1121104</td>\n",
       "      <td>360.15</td>\n",
       "      <td>202</td>\n",
       "      <td>2080666.0</td>\n",
       "      <td>0.01</td>\n",
       "      <td>1.78</td>\n",
       "      <td>0.17</td>\n",
       "      <td>9.00</td>\n",
       "    </tr>\n",
       "    <tr>\n",
       "      <th>706</th>\n",
       "      <td>1121452</td>\n",
       "      <td>359.47</td>\n",
       "      <td>205</td>\n",
       "      <td>1663441.0</td>\n",
       "      <td>0.01</td>\n",
       "      <td>1.75</td>\n",
       "      <td>0.22</td>\n",
       "      <td>21.15</td>\n",
       "    </tr>\n",
       "    <tr>\n",
       "      <th>662</th>\n",
       "      <td>1121367</td>\n",
       "      <td>420.58</td>\n",
       "      <td>233</td>\n",
       "      <td>1447755.0</td>\n",
       "      <td>0.02</td>\n",
       "      <td>1.81</td>\n",
       "      <td>0.29</td>\n",
       "      <td>38.23</td>\n",
       "    </tr>\n",
       "    <tr>\n",
       "      <th>574</th>\n",
       "      <td>1121196</td>\n",
       "      <td>358.55</td>\n",
       "      <td>206</td>\n",
       "      <td>1392288.0</td>\n",
       "      <td>0.01</td>\n",
       "      <td>1.74</td>\n",
       "      <td>0.26</td>\n",
       "      <td>11.57</td>\n",
       "    </tr>\n",
       "    <tr>\n",
       "      <th>524</th>\n",
       "      <td>1121098</td>\n",
       "      <td>236.77</td>\n",
       "      <td>123</td>\n",
       "      <td>1267550.0</td>\n",
       "      <td>0.01</td>\n",
       "      <td>1.92</td>\n",
       "      <td>0.19</td>\n",
       "      <td>9.87</td>\n",
       "    </tr>\n",
       "    <tr>\n",
       "      <th>628</th>\n",
       "      <td>1121302</td>\n",
       "      <td>236.12</td>\n",
       "      <td>128</td>\n",
       "      <td>1206533.0</td>\n",
       "      <td>0.01</td>\n",
       "      <td>1.84</td>\n",
       "      <td>0.20</td>\n",
       "      <td>13.89</td>\n",
       "    </tr>\n",
       "    <tr>\n",
       "      <th>518</th>\n",
       "      <td>1121091</td>\n",
       "      <td>254.05</td>\n",
       "      <td>141</td>\n",
       "      <td>1194718.0</td>\n",
       "      <td>0.01</td>\n",
       "      <td>1.80</td>\n",
       "      <td>0.21</td>\n",
       "      <td>9.07</td>\n",
       "    </tr>\n",
       "    <tr>\n",
       "      <th>760</th>\n",
       "      <td>1121593</td>\n",
       "      <td>365.66</td>\n",
       "      <td>221</td>\n",
       "      <td>1177535.0</td>\n",
       "      <td>0.02</td>\n",
       "      <td>1.65</td>\n",
       "      <td>0.31</td>\n",
       "      <td>24.38</td>\n",
       "    </tr>\n",
       "    <tr>\n",
       "      <th>705</th>\n",
       "      <td>1121451</td>\n",
       "      <td>260.07</td>\n",
       "      <td>147</td>\n",
       "      <td>1117385.0</td>\n",
       "      <td>0.01</td>\n",
       "      <td>1.77</td>\n",
       "      <td>0.23</td>\n",
       "      <td>23.64</td>\n",
       "    </tr>\n",
       "  </tbody>\n",
       "</table>\n",
       "</div>"
      ],
      "text/plain": [
       "       ad_id   spent  clicks  impressions   CTR   CPC   CPM    CPA\n",
       "525  1121100  639.95     340    3052003.0  0.01  1.88  0.21  10.67\n",
       "528  1121104  360.15     202    2080666.0  0.01  1.78  0.17   9.00\n",
       "706  1121452  359.47     205    1663441.0  0.01  1.75  0.22  21.15\n",
       "662  1121367  420.58     233    1447755.0  0.02  1.81  0.29  38.23\n",
       "574  1121196  358.55     206    1392288.0  0.01  1.74  0.26  11.57\n",
       "524  1121098  236.77     123    1267550.0  0.01  1.92  0.19   9.87\n",
       "628  1121302  236.12     128    1206533.0  0.01  1.84  0.20  13.89\n",
       "518  1121091  254.05     141    1194718.0  0.01  1.80  0.21   9.07\n",
       "760  1121593  365.66     221    1177535.0  0.02  1.65  0.31  24.38\n",
       "705  1121451  260.07     147    1117385.0  0.01  1.77  0.23  23.64"
      ]
     },
     "execution_count": 202,
     "metadata": {},
     "output_type": "execute_result"
    }
   ],
   "source": [
    "df2"
   ]
  },
  {
   "cell_type": "code",
   "execution_count": 203,
   "metadata": {},
   "outputs": [
    {
     "data": {
      "text/html": [
       "<style  type=\"text/css\" >\n",
       "    #T_97f2efa1_2412_11eb_9a6b_2a1b4c3d6e5frow0_col0 {\n",
       "            font-size:  16px;\n",
       "        }    #T_97f2efa1_2412_11eb_9a6b_2a1b4c3d6e5frow0_col1 {\n",
       "            font-size:  16px;\n",
       "        }    #T_97f2efa1_2412_11eb_9a6b_2a1b4c3d6e5frow0_col2 {\n",
       "            font-size:  16px;\n",
       "        }    #T_97f2efa1_2412_11eb_9a6b_2a1b4c3d6e5frow0_col3 {\n",
       "            font-size:  16px;\n",
       "        }    #T_97f2efa1_2412_11eb_9a6b_2a1b4c3d6e5frow0_col4 {\n",
       "            background-color :  red;\n",
       "             font-size:  16px;\n",
       "        }    #T_97f2efa1_2412_11eb_9a6b_2a1b4c3d6e5frow0_col5 {\n",
       "            font-size:  16px;\n",
       "        }    #T_97f2efa1_2412_11eb_9a6b_2a1b4c3d6e5frow0_col6 {\n",
       "            font-size:  16px;\n",
       "        }    #T_97f2efa1_2412_11eb_9a6b_2a1b4c3d6e5frow0_col7 {\n",
       "            font-size:  16px;\n",
       "        }    #T_97f2efa1_2412_11eb_9a6b_2a1b4c3d6e5frow1_col0 {\n",
       "            font-size:  16px;\n",
       "        }    #T_97f2efa1_2412_11eb_9a6b_2a1b4c3d6e5frow1_col1 {\n",
       "            font-size:  16px;\n",
       "        }    #T_97f2efa1_2412_11eb_9a6b_2a1b4c3d6e5frow1_col2 {\n",
       "            font-size:  16px;\n",
       "        }    #T_97f2efa1_2412_11eb_9a6b_2a1b4c3d6e5frow1_col3 {\n",
       "            font-size:  16px;\n",
       "        }    #T_97f2efa1_2412_11eb_9a6b_2a1b4c3d6e5frow1_col4 {\n",
       "            background-color :  red;\n",
       "             font-size:  16px;\n",
       "        }    #T_97f2efa1_2412_11eb_9a6b_2a1b4c3d6e5frow1_col5 {\n",
       "            font-size:  16px;\n",
       "        }    #T_97f2efa1_2412_11eb_9a6b_2a1b4c3d6e5frow1_col6 {\n",
       "            background-color :  red;\n",
       "             font-size:  16px;\n",
       "        }    #T_97f2efa1_2412_11eb_9a6b_2a1b4c3d6e5frow1_col7 {\n",
       "            background-color :  red;\n",
       "             font-size:  16px;\n",
       "        }    #T_97f2efa1_2412_11eb_9a6b_2a1b4c3d6e5frow2_col0 {\n",
       "            font-size:  16px;\n",
       "        }    #T_97f2efa1_2412_11eb_9a6b_2a1b4c3d6e5frow2_col1 {\n",
       "            font-size:  16px;\n",
       "        }    #T_97f2efa1_2412_11eb_9a6b_2a1b4c3d6e5frow2_col2 {\n",
       "            font-size:  16px;\n",
       "        }    #T_97f2efa1_2412_11eb_9a6b_2a1b4c3d6e5frow2_col3 {\n",
       "            font-size:  16px;\n",
       "        }    #T_97f2efa1_2412_11eb_9a6b_2a1b4c3d6e5frow2_col4 {\n",
       "            background-color :  red;\n",
       "             font-size:  16px;\n",
       "        }    #T_97f2efa1_2412_11eb_9a6b_2a1b4c3d6e5frow2_col5 {\n",
       "            font-size:  16px;\n",
       "        }    #T_97f2efa1_2412_11eb_9a6b_2a1b4c3d6e5frow2_col6 {\n",
       "            font-size:  16px;\n",
       "        }    #T_97f2efa1_2412_11eb_9a6b_2a1b4c3d6e5frow2_col7 {\n",
       "            font-size:  16px;\n",
       "        }    #T_97f2efa1_2412_11eb_9a6b_2a1b4c3d6e5frow3_col0 {\n",
       "            font-size:  16px;\n",
       "        }    #T_97f2efa1_2412_11eb_9a6b_2a1b4c3d6e5frow3_col1 {\n",
       "            font-size:  16px;\n",
       "        }    #T_97f2efa1_2412_11eb_9a6b_2a1b4c3d6e5frow3_col2 {\n",
       "            font-size:  16px;\n",
       "        }    #T_97f2efa1_2412_11eb_9a6b_2a1b4c3d6e5frow3_col3 {\n",
       "            font-size:  16px;\n",
       "        }    #T_97f2efa1_2412_11eb_9a6b_2a1b4c3d6e5frow3_col4 {\n",
       "            font-size:  16px;\n",
       "        }    #T_97f2efa1_2412_11eb_9a6b_2a1b4c3d6e5frow3_col5 {\n",
       "            font-size:  16px;\n",
       "        }    #T_97f2efa1_2412_11eb_9a6b_2a1b4c3d6e5frow3_col6 {\n",
       "            font-size:  16px;\n",
       "        }    #T_97f2efa1_2412_11eb_9a6b_2a1b4c3d6e5frow3_col7 {\n",
       "            font-size:  16px;\n",
       "        }    #T_97f2efa1_2412_11eb_9a6b_2a1b4c3d6e5frow4_col0 {\n",
       "            font-size:  16px;\n",
       "        }    #T_97f2efa1_2412_11eb_9a6b_2a1b4c3d6e5frow4_col1 {\n",
       "            font-size:  16px;\n",
       "        }    #T_97f2efa1_2412_11eb_9a6b_2a1b4c3d6e5frow4_col2 {\n",
       "            font-size:  16px;\n",
       "        }    #T_97f2efa1_2412_11eb_9a6b_2a1b4c3d6e5frow4_col3 {\n",
       "            font-size:  16px;\n",
       "        }    #T_97f2efa1_2412_11eb_9a6b_2a1b4c3d6e5frow4_col4 {\n",
       "            background-color :  red;\n",
       "             font-size:  16px;\n",
       "        }    #T_97f2efa1_2412_11eb_9a6b_2a1b4c3d6e5frow4_col5 {\n",
       "            font-size:  16px;\n",
       "        }    #T_97f2efa1_2412_11eb_9a6b_2a1b4c3d6e5frow4_col6 {\n",
       "            font-size:  16px;\n",
       "        }    #T_97f2efa1_2412_11eb_9a6b_2a1b4c3d6e5frow4_col7 {\n",
       "            font-size:  16px;\n",
       "        }    #T_97f2efa1_2412_11eb_9a6b_2a1b4c3d6e5frow5_col0 {\n",
       "            font-size:  16px;\n",
       "        }    #T_97f2efa1_2412_11eb_9a6b_2a1b4c3d6e5frow5_col1 {\n",
       "            font-size:  16px;\n",
       "        }    #T_97f2efa1_2412_11eb_9a6b_2a1b4c3d6e5frow5_col2 {\n",
       "            background-color :  red;\n",
       "             font-size:  16px;\n",
       "        }    #T_97f2efa1_2412_11eb_9a6b_2a1b4c3d6e5frow5_col3 {\n",
       "            font-size:  16px;\n",
       "        }    #T_97f2efa1_2412_11eb_9a6b_2a1b4c3d6e5frow5_col4 {\n",
       "            background-color :  red;\n",
       "             font-size:  16px;\n",
       "        }    #T_97f2efa1_2412_11eb_9a6b_2a1b4c3d6e5frow5_col5 {\n",
       "            font-size:  16px;\n",
       "        }    #T_97f2efa1_2412_11eb_9a6b_2a1b4c3d6e5frow5_col6 {\n",
       "            font-size:  16px;\n",
       "        }    #T_97f2efa1_2412_11eb_9a6b_2a1b4c3d6e5frow5_col7 {\n",
       "            font-size:  16px;\n",
       "        }    #T_97f2efa1_2412_11eb_9a6b_2a1b4c3d6e5frow6_col0 {\n",
       "            font-size:  16px;\n",
       "        }    #T_97f2efa1_2412_11eb_9a6b_2a1b4c3d6e5frow6_col1 {\n",
       "            background-color :  red;\n",
       "             font-size:  16px;\n",
       "        }    #T_97f2efa1_2412_11eb_9a6b_2a1b4c3d6e5frow6_col2 {\n",
       "            font-size:  16px;\n",
       "        }    #T_97f2efa1_2412_11eb_9a6b_2a1b4c3d6e5frow6_col3 {\n",
       "            font-size:  16px;\n",
       "        }    #T_97f2efa1_2412_11eb_9a6b_2a1b4c3d6e5frow6_col4 {\n",
       "            background-color :  red;\n",
       "             font-size:  16px;\n",
       "        }    #T_97f2efa1_2412_11eb_9a6b_2a1b4c3d6e5frow6_col5 {\n",
       "            font-size:  16px;\n",
       "        }    #T_97f2efa1_2412_11eb_9a6b_2a1b4c3d6e5frow6_col6 {\n",
       "            font-size:  16px;\n",
       "        }    #T_97f2efa1_2412_11eb_9a6b_2a1b4c3d6e5frow6_col7 {\n",
       "            font-size:  16px;\n",
       "        }    #T_97f2efa1_2412_11eb_9a6b_2a1b4c3d6e5frow7_col0 {\n",
       "            background-color :  red;\n",
       "             font-size:  16px;\n",
       "        }    #T_97f2efa1_2412_11eb_9a6b_2a1b4c3d6e5frow7_col1 {\n",
       "            font-size:  16px;\n",
       "        }    #T_97f2efa1_2412_11eb_9a6b_2a1b4c3d6e5frow7_col2 {\n",
       "            font-size:  16px;\n",
       "        }    #T_97f2efa1_2412_11eb_9a6b_2a1b4c3d6e5frow7_col3 {\n",
       "            font-size:  16px;\n",
       "        }    #T_97f2efa1_2412_11eb_9a6b_2a1b4c3d6e5frow7_col4 {\n",
       "            background-color :  red;\n",
       "             font-size:  16px;\n",
       "        }    #T_97f2efa1_2412_11eb_9a6b_2a1b4c3d6e5frow7_col5 {\n",
       "            font-size:  16px;\n",
       "        }    #T_97f2efa1_2412_11eb_9a6b_2a1b4c3d6e5frow7_col6 {\n",
       "            font-size:  16px;\n",
       "        }    #T_97f2efa1_2412_11eb_9a6b_2a1b4c3d6e5frow7_col7 {\n",
       "            font-size:  16px;\n",
       "        }    #T_97f2efa1_2412_11eb_9a6b_2a1b4c3d6e5frow8_col0 {\n",
       "            font-size:  16px;\n",
       "        }    #T_97f2efa1_2412_11eb_9a6b_2a1b4c3d6e5frow8_col1 {\n",
       "            font-size:  16px;\n",
       "        }    #T_97f2efa1_2412_11eb_9a6b_2a1b4c3d6e5frow8_col2 {\n",
       "            font-size:  16px;\n",
       "        }    #T_97f2efa1_2412_11eb_9a6b_2a1b4c3d6e5frow8_col3 {\n",
       "            font-size:  16px;\n",
       "        }    #T_97f2efa1_2412_11eb_9a6b_2a1b4c3d6e5frow8_col4 {\n",
       "            font-size:  16px;\n",
       "        }    #T_97f2efa1_2412_11eb_9a6b_2a1b4c3d6e5frow8_col5 {\n",
       "            background-color :  red;\n",
       "             font-size:  16px;\n",
       "        }    #T_97f2efa1_2412_11eb_9a6b_2a1b4c3d6e5frow8_col6 {\n",
       "            font-size:  16px;\n",
       "        }    #T_97f2efa1_2412_11eb_9a6b_2a1b4c3d6e5frow8_col7 {\n",
       "            font-size:  16px;\n",
       "        }    #T_97f2efa1_2412_11eb_9a6b_2a1b4c3d6e5frow9_col0 {\n",
       "            font-size:  16px;\n",
       "        }    #T_97f2efa1_2412_11eb_9a6b_2a1b4c3d6e5frow9_col1 {\n",
       "            font-size:  16px;\n",
       "        }    #T_97f2efa1_2412_11eb_9a6b_2a1b4c3d6e5frow9_col2 {\n",
       "            font-size:  16px;\n",
       "        }    #T_97f2efa1_2412_11eb_9a6b_2a1b4c3d6e5frow9_col3 {\n",
       "            background-color :  red;\n",
       "             font-size:  16px;\n",
       "        }    #T_97f2efa1_2412_11eb_9a6b_2a1b4c3d6e5frow9_col4 {\n",
       "            background-color :  red;\n",
       "             font-size:  16px;\n",
       "        }    #T_97f2efa1_2412_11eb_9a6b_2a1b4c3d6e5frow9_col5 {\n",
       "            font-size:  16px;\n",
       "        }    #T_97f2efa1_2412_11eb_9a6b_2a1b4c3d6e5frow9_col6 {\n",
       "            font-size:  16px;\n",
       "        }    #T_97f2efa1_2412_11eb_9a6b_2a1b4c3d6e5frow9_col7 {\n",
       "            font-size:  16px;\n",
       "        }</style><table id=\"T_97f2efa1_2412_11eb_9a6b_2a1b4c3d6e5f\" ><thead>    <tr>        <th class=\"blank level0\" ></th>        <th class=\"col_heading level0 col0\" >ad_id</th>        <th class=\"col_heading level0 col1\" >spent</th>        <th class=\"col_heading level0 col2\" >clicks</th>        <th class=\"col_heading level0 col3\" >impressions</th>        <th class=\"col_heading level0 col4\" >CTR</th>        <th class=\"col_heading level0 col5\" >CPC</th>        <th class=\"col_heading level0 col6\" >CPM</th>        <th class=\"col_heading level0 col7\" >CPA</th>    </tr></thead><tbody>\n",
       "                <tr>\n",
       "                        <th id=\"T_97f2efa1_2412_11eb_9a6b_2a1b4c3d6e5flevel0_row0\" class=\"row_heading level0 row0\" >525</th>\n",
       "                        <td id=\"T_97f2efa1_2412_11eb_9a6b_2a1b4c3d6e5frow0_col0\" class=\"data row0 col0\" >1121100</td>\n",
       "                        <td id=\"T_97f2efa1_2412_11eb_9a6b_2a1b4c3d6e5frow0_col1\" class=\"data row0 col1\" >639.950000</td>\n",
       "                        <td id=\"T_97f2efa1_2412_11eb_9a6b_2a1b4c3d6e5frow0_col2\" class=\"data row0 col2\" >340</td>\n",
       "                        <td id=\"T_97f2efa1_2412_11eb_9a6b_2a1b4c3d6e5frow0_col3\" class=\"data row0 col3\" >3052003.000000</td>\n",
       "                        <td id=\"T_97f2efa1_2412_11eb_9a6b_2a1b4c3d6e5frow0_col4\" class=\"data row0 col4\" >0.010000</td>\n",
       "                        <td id=\"T_97f2efa1_2412_11eb_9a6b_2a1b4c3d6e5frow0_col5\" class=\"data row0 col5\" >1.880000</td>\n",
       "                        <td id=\"T_97f2efa1_2412_11eb_9a6b_2a1b4c3d6e5frow0_col6\" class=\"data row0 col6\" >0.210000</td>\n",
       "                        <td id=\"T_97f2efa1_2412_11eb_9a6b_2a1b4c3d6e5frow0_col7\" class=\"data row0 col7\" >10.670000</td>\n",
       "            </tr>\n",
       "            <tr>\n",
       "                        <th id=\"T_97f2efa1_2412_11eb_9a6b_2a1b4c3d6e5flevel0_row1\" class=\"row_heading level0 row1\" >528</th>\n",
       "                        <td id=\"T_97f2efa1_2412_11eb_9a6b_2a1b4c3d6e5frow1_col0\" class=\"data row1 col0\" >1121104</td>\n",
       "                        <td id=\"T_97f2efa1_2412_11eb_9a6b_2a1b4c3d6e5frow1_col1\" class=\"data row1 col1\" >360.150000</td>\n",
       "                        <td id=\"T_97f2efa1_2412_11eb_9a6b_2a1b4c3d6e5frow1_col2\" class=\"data row1 col2\" >202</td>\n",
       "                        <td id=\"T_97f2efa1_2412_11eb_9a6b_2a1b4c3d6e5frow1_col3\" class=\"data row1 col3\" >2080666.000000</td>\n",
       "                        <td id=\"T_97f2efa1_2412_11eb_9a6b_2a1b4c3d6e5frow1_col4\" class=\"data row1 col4\" >0.010000</td>\n",
       "                        <td id=\"T_97f2efa1_2412_11eb_9a6b_2a1b4c3d6e5frow1_col5\" class=\"data row1 col5\" >1.780000</td>\n",
       "                        <td id=\"T_97f2efa1_2412_11eb_9a6b_2a1b4c3d6e5frow1_col6\" class=\"data row1 col6\" >0.170000</td>\n",
       "                        <td id=\"T_97f2efa1_2412_11eb_9a6b_2a1b4c3d6e5frow1_col7\" class=\"data row1 col7\" >9.000000</td>\n",
       "            </tr>\n",
       "            <tr>\n",
       "                        <th id=\"T_97f2efa1_2412_11eb_9a6b_2a1b4c3d6e5flevel0_row2\" class=\"row_heading level0 row2\" >706</th>\n",
       "                        <td id=\"T_97f2efa1_2412_11eb_9a6b_2a1b4c3d6e5frow2_col0\" class=\"data row2 col0\" >1121452</td>\n",
       "                        <td id=\"T_97f2efa1_2412_11eb_9a6b_2a1b4c3d6e5frow2_col1\" class=\"data row2 col1\" >359.470000</td>\n",
       "                        <td id=\"T_97f2efa1_2412_11eb_9a6b_2a1b4c3d6e5frow2_col2\" class=\"data row2 col2\" >205</td>\n",
       "                        <td id=\"T_97f2efa1_2412_11eb_9a6b_2a1b4c3d6e5frow2_col3\" class=\"data row2 col3\" >1663441.000000</td>\n",
       "                        <td id=\"T_97f2efa1_2412_11eb_9a6b_2a1b4c3d6e5frow2_col4\" class=\"data row2 col4\" >0.010000</td>\n",
       "                        <td id=\"T_97f2efa1_2412_11eb_9a6b_2a1b4c3d6e5frow2_col5\" class=\"data row2 col5\" >1.750000</td>\n",
       "                        <td id=\"T_97f2efa1_2412_11eb_9a6b_2a1b4c3d6e5frow2_col6\" class=\"data row2 col6\" >0.220000</td>\n",
       "                        <td id=\"T_97f2efa1_2412_11eb_9a6b_2a1b4c3d6e5frow2_col7\" class=\"data row2 col7\" >21.150000</td>\n",
       "            </tr>\n",
       "            <tr>\n",
       "                        <th id=\"T_97f2efa1_2412_11eb_9a6b_2a1b4c3d6e5flevel0_row3\" class=\"row_heading level0 row3\" >662</th>\n",
       "                        <td id=\"T_97f2efa1_2412_11eb_9a6b_2a1b4c3d6e5frow3_col0\" class=\"data row3 col0\" >1121367</td>\n",
       "                        <td id=\"T_97f2efa1_2412_11eb_9a6b_2a1b4c3d6e5frow3_col1\" class=\"data row3 col1\" >420.580000</td>\n",
       "                        <td id=\"T_97f2efa1_2412_11eb_9a6b_2a1b4c3d6e5frow3_col2\" class=\"data row3 col2\" >233</td>\n",
       "                        <td id=\"T_97f2efa1_2412_11eb_9a6b_2a1b4c3d6e5frow3_col3\" class=\"data row3 col3\" >1447755.000000</td>\n",
       "                        <td id=\"T_97f2efa1_2412_11eb_9a6b_2a1b4c3d6e5frow3_col4\" class=\"data row3 col4\" >0.020000</td>\n",
       "                        <td id=\"T_97f2efa1_2412_11eb_9a6b_2a1b4c3d6e5frow3_col5\" class=\"data row3 col5\" >1.810000</td>\n",
       "                        <td id=\"T_97f2efa1_2412_11eb_9a6b_2a1b4c3d6e5frow3_col6\" class=\"data row3 col6\" >0.290000</td>\n",
       "                        <td id=\"T_97f2efa1_2412_11eb_9a6b_2a1b4c3d6e5frow3_col7\" class=\"data row3 col7\" >38.230000</td>\n",
       "            </tr>\n",
       "            <tr>\n",
       "                        <th id=\"T_97f2efa1_2412_11eb_9a6b_2a1b4c3d6e5flevel0_row4\" class=\"row_heading level0 row4\" >574</th>\n",
       "                        <td id=\"T_97f2efa1_2412_11eb_9a6b_2a1b4c3d6e5frow4_col0\" class=\"data row4 col0\" >1121196</td>\n",
       "                        <td id=\"T_97f2efa1_2412_11eb_9a6b_2a1b4c3d6e5frow4_col1\" class=\"data row4 col1\" >358.550000</td>\n",
       "                        <td id=\"T_97f2efa1_2412_11eb_9a6b_2a1b4c3d6e5frow4_col2\" class=\"data row4 col2\" >206</td>\n",
       "                        <td id=\"T_97f2efa1_2412_11eb_9a6b_2a1b4c3d6e5frow4_col3\" class=\"data row4 col3\" >1392288.000000</td>\n",
       "                        <td id=\"T_97f2efa1_2412_11eb_9a6b_2a1b4c3d6e5frow4_col4\" class=\"data row4 col4\" >0.010000</td>\n",
       "                        <td id=\"T_97f2efa1_2412_11eb_9a6b_2a1b4c3d6e5frow4_col5\" class=\"data row4 col5\" >1.740000</td>\n",
       "                        <td id=\"T_97f2efa1_2412_11eb_9a6b_2a1b4c3d6e5frow4_col6\" class=\"data row4 col6\" >0.260000</td>\n",
       "                        <td id=\"T_97f2efa1_2412_11eb_9a6b_2a1b4c3d6e5frow4_col7\" class=\"data row4 col7\" >11.570000</td>\n",
       "            </tr>\n",
       "            <tr>\n",
       "                        <th id=\"T_97f2efa1_2412_11eb_9a6b_2a1b4c3d6e5flevel0_row5\" class=\"row_heading level0 row5\" >524</th>\n",
       "                        <td id=\"T_97f2efa1_2412_11eb_9a6b_2a1b4c3d6e5frow5_col0\" class=\"data row5 col0\" >1121098</td>\n",
       "                        <td id=\"T_97f2efa1_2412_11eb_9a6b_2a1b4c3d6e5frow5_col1\" class=\"data row5 col1\" >236.770000</td>\n",
       "                        <td id=\"T_97f2efa1_2412_11eb_9a6b_2a1b4c3d6e5frow5_col2\" class=\"data row5 col2\" >123</td>\n",
       "                        <td id=\"T_97f2efa1_2412_11eb_9a6b_2a1b4c3d6e5frow5_col3\" class=\"data row5 col3\" >1267550.000000</td>\n",
       "                        <td id=\"T_97f2efa1_2412_11eb_9a6b_2a1b4c3d6e5frow5_col4\" class=\"data row5 col4\" >0.010000</td>\n",
       "                        <td id=\"T_97f2efa1_2412_11eb_9a6b_2a1b4c3d6e5frow5_col5\" class=\"data row5 col5\" >1.920000</td>\n",
       "                        <td id=\"T_97f2efa1_2412_11eb_9a6b_2a1b4c3d6e5frow5_col6\" class=\"data row5 col6\" >0.190000</td>\n",
       "                        <td id=\"T_97f2efa1_2412_11eb_9a6b_2a1b4c3d6e5frow5_col7\" class=\"data row5 col7\" >9.870000</td>\n",
       "            </tr>\n",
       "            <tr>\n",
       "                        <th id=\"T_97f2efa1_2412_11eb_9a6b_2a1b4c3d6e5flevel0_row6\" class=\"row_heading level0 row6\" >628</th>\n",
       "                        <td id=\"T_97f2efa1_2412_11eb_9a6b_2a1b4c3d6e5frow6_col0\" class=\"data row6 col0\" >1121302</td>\n",
       "                        <td id=\"T_97f2efa1_2412_11eb_9a6b_2a1b4c3d6e5frow6_col1\" class=\"data row6 col1\" >236.120000</td>\n",
       "                        <td id=\"T_97f2efa1_2412_11eb_9a6b_2a1b4c3d6e5frow6_col2\" class=\"data row6 col2\" >128</td>\n",
       "                        <td id=\"T_97f2efa1_2412_11eb_9a6b_2a1b4c3d6e5frow6_col3\" class=\"data row6 col3\" >1206533.000000</td>\n",
       "                        <td id=\"T_97f2efa1_2412_11eb_9a6b_2a1b4c3d6e5frow6_col4\" class=\"data row6 col4\" >0.010000</td>\n",
       "                        <td id=\"T_97f2efa1_2412_11eb_9a6b_2a1b4c3d6e5frow6_col5\" class=\"data row6 col5\" >1.840000</td>\n",
       "                        <td id=\"T_97f2efa1_2412_11eb_9a6b_2a1b4c3d6e5frow6_col6\" class=\"data row6 col6\" >0.200000</td>\n",
       "                        <td id=\"T_97f2efa1_2412_11eb_9a6b_2a1b4c3d6e5frow6_col7\" class=\"data row6 col7\" >13.890000</td>\n",
       "            </tr>\n",
       "            <tr>\n",
       "                        <th id=\"T_97f2efa1_2412_11eb_9a6b_2a1b4c3d6e5flevel0_row7\" class=\"row_heading level0 row7\" >518</th>\n",
       "                        <td id=\"T_97f2efa1_2412_11eb_9a6b_2a1b4c3d6e5frow7_col0\" class=\"data row7 col0\" >1121091</td>\n",
       "                        <td id=\"T_97f2efa1_2412_11eb_9a6b_2a1b4c3d6e5frow7_col1\" class=\"data row7 col1\" >254.050000</td>\n",
       "                        <td id=\"T_97f2efa1_2412_11eb_9a6b_2a1b4c3d6e5frow7_col2\" class=\"data row7 col2\" >141</td>\n",
       "                        <td id=\"T_97f2efa1_2412_11eb_9a6b_2a1b4c3d6e5frow7_col3\" class=\"data row7 col3\" >1194718.000000</td>\n",
       "                        <td id=\"T_97f2efa1_2412_11eb_9a6b_2a1b4c3d6e5frow7_col4\" class=\"data row7 col4\" >0.010000</td>\n",
       "                        <td id=\"T_97f2efa1_2412_11eb_9a6b_2a1b4c3d6e5frow7_col5\" class=\"data row7 col5\" >1.800000</td>\n",
       "                        <td id=\"T_97f2efa1_2412_11eb_9a6b_2a1b4c3d6e5frow7_col6\" class=\"data row7 col6\" >0.210000</td>\n",
       "                        <td id=\"T_97f2efa1_2412_11eb_9a6b_2a1b4c3d6e5frow7_col7\" class=\"data row7 col7\" >9.070000</td>\n",
       "            </tr>\n",
       "            <tr>\n",
       "                        <th id=\"T_97f2efa1_2412_11eb_9a6b_2a1b4c3d6e5flevel0_row8\" class=\"row_heading level0 row8\" >760</th>\n",
       "                        <td id=\"T_97f2efa1_2412_11eb_9a6b_2a1b4c3d6e5frow8_col0\" class=\"data row8 col0\" >1121593</td>\n",
       "                        <td id=\"T_97f2efa1_2412_11eb_9a6b_2a1b4c3d6e5frow8_col1\" class=\"data row8 col1\" >365.660000</td>\n",
       "                        <td id=\"T_97f2efa1_2412_11eb_9a6b_2a1b4c3d6e5frow8_col2\" class=\"data row8 col2\" >221</td>\n",
       "                        <td id=\"T_97f2efa1_2412_11eb_9a6b_2a1b4c3d6e5frow8_col3\" class=\"data row8 col3\" >1177535.000000</td>\n",
       "                        <td id=\"T_97f2efa1_2412_11eb_9a6b_2a1b4c3d6e5frow8_col4\" class=\"data row8 col4\" >0.020000</td>\n",
       "                        <td id=\"T_97f2efa1_2412_11eb_9a6b_2a1b4c3d6e5frow8_col5\" class=\"data row8 col5\" >1.650000</td>\n",
       "                        <td id=\"T_97f2efa1_2412_11eb_9a6b_2a1b4c3d6e5frow8_col6\" class=\"data row8 col6\" >0.310000</td>\n",
       "                        <td id=\"T_97f2efa1_2412_11eb_9a6b_2a1b4c3d6e5frow8_col7\" class=\"data row8 col7\" >24.380000</td>\n",
       "            </tr>\n",
       "            <tr>\n",
       "                        <th id=\"T_97f2efa1_2412_11eb_9a6b_2a1b4c3d6e5flevel0_row9\" class=\"row_heading level0 row9\" >705</th>\n",
       "                        <td id=\"T_97f2efa1_2412_11eb_9a6b_2a1b4c3d6e5frow9_col0\" class=\"data row9 col0\" >1121451</td>\n",
       "                        <td id=\"T_97f2efa1_2412_11eb_9a6b_2a1b4c3d6e5frow9_col1\" class=\"data row9 col1\" >260.070000</td>\n",
       "                        <td id=\"T_97f2efa1_2412_11eb_9a6b_2a1b4c3d6e5frow9_col2\" class=\"data row9 col2\" >147</td>\n",
       "                        <td id=\"T_97f2efa1_2412_11eb_9a6b_2a1b4c3d6e5frow9_col3\" class=\"data row9 col3\" >1117385.000000</td>\n",
       "                        <td id=\"T_97f2efa1_2412_11eb_9a6b_2a1b4c3d6e5frow9_col4\" class=\"data row9 col4\" >0.010000</td>\n",
       "                        <td id=\"T_97f2efa1_2412_11eb_9a6b_2a1b4c3d6e5frow9_col5\" class=\"data row9 col5\" >1.770000</td>\n",
       "                        <td id=\"T_97f2efa1_2412_11eb_9a6b_2a1b4c3d6e5frow9_col6\" class=\"data row9 col6\" >0.230000</td>\n",
       "                        <td id=\"T_97f2efa1_2412_11eb_9a6b_2a1b4c3d6e5frow9_col7\" class=\"data row9 col7\" >23.640000</td>\n",
       "            </tr>\n",
       "    </tbody></table>"
      ],
      "text/plain": [
       "<pandas.io.formats.style.Styler at 0x1e0f6e5fa90>"
      ]
     },
     "execution_count": 203,
     "metadata": {},
     "output_type": "execute_result"
    }
   ],
   "source": [
    "# This show the minimun values in df2\n",
    "df2.style.apply(lambda x: ['background-color : red; font-size: 16px' if v==x.min() else 'font-size: 16px' for _,v in enumerate(x) ],axis=0)"
   ]
  },
  {
   "cell_type": "code",
   "execution_count": 204,
   "metadata": {},
   "outputs": [
    {
     "data": {
      "text/html": [
       "<div>\n",
       "<style scoped>\n",
       "    .dataframe tbody tr th:only-of-type {\n",
       "        vertical-align: middle;\n",
       "    }\n",
       "\n",
       "    .dataframe tbody tr th {\n",
       "        vertical-align: top;\n",
       "    }\n",
       "\n",
       "    .dataframe thead th {\n",
       "        text-align: right;\n",
       "    }\n",
       "</style>\n",
       "<table border=\"1\" class=\"dataframe\">\n",
       "  <thead>\n",
       "    <tr style=\"text-align: right;\">\n",
       "      <th></th>\n",
       "      <th>ad_id</th>\n",
       "      <th>spent</th>\n",
       "      <th>clicks</th>\n",
       "      <th>impressions</th>\n",
       "      <th>CTR</th>\n",
       "      <th>CPC</th>\n",
       "      <th>CPM</th>\n",
       "      <th>CPA</th>\n",
       "    </tr>\n",
       "  </thead>\n",
       "  <tbody>\n",
       "    <tr>\n",
       "      <th>524</th>\n",
       "      <td>1121098</td>\n",
       "      <td>236.77</td>\n",
       "      <td>123</td>\n",
       "      <td>1267550.0</td>\n",
       "      <td>0.01</td>\n",
       "      <td>1.92</td>\n",
       "      <td>0.19</td>\n",
       "      <td>9.87</td>\n",
       "    </tr>\n",
       "    <tr>\n",
       "      <th>525</th>\n",
       "      <td>1121100</td>\n",
       "      <td>639.95</td>\n",
       "      <td>340</td>\n",
       "      <td>3052003.0</td>\n",
       "      <td>0.01</td>\n",
       "      <td>1.88</td>\n",
       "      <td>0.21</td>\n",
       "      <td>10.67</td>\n",
       "    </tr>\n",
       "    <tr>\n",
       "      <th>628</th>\n",
       "      <td>1121302</td>\n",
       "      <td>236.12</td>\n",
       "      <td>128</td>\n",
       "      <td>1206533.0</td>\n",
       "      <td>0.01</td>\n",
       "      <td>1.84</td>\n",
       "      <td>0.20</td>\n",
       "      <td>13.89</td>\n",
       "    </tr>\n",
       "  </tbody>\n",
       "</table>\n",
       "</div>"
      ],
      "text/plain": [
       "       ad_id   spent  clicks  impressions   CTR   CPC   CPM    CPA\n",
       "524  1121098  236.77     123    1267550.0  0.01  1.92  0.19   9.87\n",
       "525  1121100  639.95     340    3052003.0  0.01  1.88  0.21  10.67\n",
       "628  1121302  236.12     128    1206533.0  0.01  1.84  0.20  13.89"
      ]
     },
     "execution_count": 204,
     "metadata": {},
     "output_type": "execute_result"
    }
   ],
   "source": [
    "# best CPC in df2\n",
    "df2.nlargest(3, 'CPC')"
   ]
  },
  {
   "cell_type": "code",
   "execution_count": 205,
   "metadata": {},
   "outputs": [
    {
     "data": {
      "text/plain": [
       "array([1121451], dtype=int64)"
      ]
     },
     "execution_count": 205,
     "metadata": {},
     "output_type": "execute_result"
    }
   ],
   "source": [
    "#show me Ad with Impression = value and CPA >=10\n",
    "df.loc[(df[\"impressions\"] == 1117385.0 ) & (df[\"CPA\"] >=10 ), \"ad_id\"].values"
   ]
  },
  {
   "cell_type": "code",
   "execution_count": 206,
   "metadata": {},
   "outputs": [
    {
     "data": {
      "text/html": [
       "<div>\n",
       "<style scoped>\n",
       "    .dataframe tbody tr th:only-of-type {\n",
       "        vertical-align: middle;\n",
       "    }\n",
       "\n",
       "    .dataframe tbody tr th {\n",
       "        vertical-align: top;\n",
       "    }\n",
       "\n",
       "    .dataframe thead th {\n",
       "        text-align: right;\n",
       "    }\n",
       "</style>\n",
       "<table border=\"1\" class=\"dataframe\">\n",
       "  <thead>\n",
       "    <tr style=\"text-align: right;\">\n",
       "      <th></th>\n",
       "      <th>ad_id</th>\n",
       "      <th>AdText</th>\n",
       "      <th>reporting_start</th>\n",
       "      <th>reporting_end</th>\n",
       "      <th>campaign_id</th>\n",
       "      <th>Location</th>\n",
       "      <th>Placements</th>\n",
       "      <th>fb_campaign_id</th>\n",
       "      <th>PeopleWhoMatch</th>\n",
       "      <th>age</th>\n",
       "      <th>...</th>\n",
       "      <th>interest3</th>\n",
       "      <th>impressions</th>\n",
       "      <th>clicks</th>\n",
       "      <th>spent</th>\n",
       "      <th>total_conversion</th>\n",
       "      <th>approved_conversion</th>\n",
       "      <th>CTR</th>\n",
       "      <th>CPC</th>\n",
       "      <th>CPM</th>\n",
       "      <th>CPA</th>\n",
       "    </tr>\n",
       "  </thead>\n",
       "  <tbody>\n",
       "    <tr>\n",
       "      <th>705</th>\n",
       "      <td>1121451</td>\n",
       "      <td>Community about black social and racial issues...</td>\n",
       "      <td>25/08/2017</td>\n",
       "      <td>25/08/2017</td>\n",
       "      <td>1178</td>\n",
       "      <td>United States</td>\n",
       "      <td>News Feed on desktop computers or News Feed on...</td>\n",
       "      <td>144599</td>\n",
       "      <td>NaN</td>\n",
       "      <td>31</td>\n",
       "      <td>...</td>\n",
       "      <td>18</td>\n",
       "      <td>1117385.0</td>\n",
       "      <td>147</td>\n",
       "      <td>260.069998</td>\n",
       "      <td>11.0</td>\n",
       "      <td>2.0</td>\n",
       "      <td>0.013156</td>\n",
       "      <td>1.769184</td>\n",
       "      <td>0.232749</td>\n",
       "      <td>23.642727</td>\n",
       "    </tr>\n",
       "  </tbody>\n",
       "</table>\n",
       "<p>1 rows × 25 columns</p>\n",
       "</div>"
      ],
      "text/plain": [
       "       ad_id                                             AdText  \\\n",
       "705  1121451  Community about black social and racial issues...   \n",
       "\n",
       "    reporting_start reporting_end campaign_id       Location  \\\n",
       "705      25/08/2017    25/08/2017        1178  United States   \n",
       "\n",
       "                                            Placements fb_campaign_id  \\\n",
       "705  News Feed on desktop computers or News Feed on...         144599   \n",
       "\n",
       "    PeopleWhoMatch  age  ... interest3 impressions clicks       spent  \\\n",
       "705            NaN   31  ...        18   1117385.0    147  260.069998   \n",
       "\n",
       "     total_conversion  approved_conversion       CTR       CPC       CPM  \\\n",
       "705              11.0                  2.0  0.013156  1.769184  0.232749   \n",
       "\n",
       "           CPA  \n",
       "705  23.642727  \n",
       "\n",
       "[1 rows x 25 columns]"
      ]
     },
     "execution_count": 206,
     "metadata": {},
     "output_type": "execute_result"
    }
   ],
   "source": [
    "# return row by a value \n",
    "df.loc[df['ad_id'] == 1121451]"
   ]
  },
  {
   "cell_type": "code",
   "execution_count": 207,
   "metadata": {},
   "outputs": [
    {
     "data": {
      "text/plain": [
       "impressions    3052003.0\n",
       "CPC                  0.0\n",
       "dtype: float64"
      ]
     },
     "execution_count": 207,
     "metadata": {},
     "output_type": "execute_result"
    }
   ],
   "source": [
    "# find the ad with max Impressions and min CPC\n",
    "df.agg({'impressions': 'max', 'CPC':'min'})\n",
    "\n",
    " ##print(df.loc[:, ['Impressions', 'CPC']].max().min())"
   ]
  },
  {
   "cell_type": "code",
   "execution_count": 208,
   "metadata": {
    "scrolled": true
   },
   "outputs": [
    {
     "data": {
      "text/html": [
       "<div>\n",
       "<style scoped>\n",
       "    .dataframe tbody tr th:only-of-type {\n",
       "        vertical-align: middle;\n",
       "    }\n",
       "\n",
       "    .dataframe tbody tr th {\n",
       "        vertical-align: top;\n",
       "    }\n",
       "\n",
       "    .dataframe thead th {\n",
       "        text-align: right;\n",
       "    }\n",
       "</style>\n",
       "<table border=\"1\" class=\"dataframe\">\n",
       "  <thead>\n",
       "    <tr style=\"text-align: right;\">\n",
       "      <th></th>\n",
       "      <th>ad_id</th>\n",
       "      <th>AdText</th>\n",
       "      <th>reporting_start</th>\n",
       "      <th>reporting_end</th>\n",
       "      <th>campaign_id</th>\n",
       "      <th>Location</th>\n",
       "      <th>Placements</th>\n",
       "      <th>fb_campaign_id</th>\n",
       "      <th>PeopleWhoMatch</th>\n",
       "      <th>age</th>\n",
       "      <th>...</th>\n",
       "      <th>interest3</th>\n",
       "      <th>impressions</th>\n",
       "      <th>clicks</th>\n",
       "      <th>spent</th>\n",
       "      <th>total_conversion</th>\n",
       "      <th>approved_conversion</th>\n",
       "      <th>CTR</th>\n",
       "      <th>CPC</th>\n",
       "      <th>CPM</th>\n",
       "      <th>CPA</th>\n",
       "    </tr>\n",
       "  </thead>\n",
       "  <tbody>\n",
       "    <tr>\n",
       "      <th>525</th>\n",
       "      <td>1121100</td>\n",
       "      <td>We want INDEPENDENCE, we fight for constitutio...</td>\n",
       "      <td>29/08/2017</td>\n",
       "      <td>29/08/2017</td>\n",
       "      <td>1178</td>\n",
       "      <td>United States</td>\n",
       "      <td>Instagram Feed</td>\n",
       "      <td>144532</td>\n",
       "      <td>NaN</td>\n",
       "      <td>45</td>\n",
       "      <td>...</td>\n",
       "      <td>17</td>\n",
       "      <td>3052003.0</td>\n",
       "      <td>340</td>\n",
       "      <td>639.949998</td>\n",
       "      <td>60.0</td>\n",
       "      <td>17.0</td>\n",
       "      <td>0.01114</td>\n",
       "      <td>1.882206</td>\n",
       "      <td>0.209682</td>\n",
       "      <td>10.665833</td>\n",
       "    </tr>\n",
       "  </tbody>\n",
       "</table>\n",
       "<p>1 rows × 25 columns</p>\n",
       "</div>"
      ],
      "text/plain": [
       "       ad_id                                             AdText  \\\n",
       "525  1121100  We want INDEPENDENCE, we fight for constitutio...   \n",
       "\n",
       "    reporting_start reporting_end campaign_id       Location      Placements  \\\n",
       "525      29/08/2017    29/08/2017        1178  United States  Instagram Feed   \n",
       "\n",
       "    fb_campaign_id PeopleWhoMatch  age  ... interest3 impressions clicks  \\\n",
       "525         144532            NaN   45  ...        17   3052003.0    340   \n",
       "\n",
       "          spent  total_conversion  approved_conversion      CTR       CPC  \\\n",
       "525  639.949998              60.0                 17.0  0.01114  1.882206   \n",
       "\n",
       "          CPM        CPA  \n",
       "525  0.209682  10.665833  \n",
       "\n",
       "[1 rows x 25 columns]"
      ]
     },
     "execution_count": 208,
     "metadata": {},
     "output_type": "execute_result"
    }
   ],
   "source": [
    "df.loc[df['impressions'] == 3052003.0]\n",
    "# The AdID number 525 "
   ]
  },
  {
   "cell_type": "markdown",
   "metadata": {},
   "source": [
    "### Cost Analysis"
   ]
  },
  {
   "cell_type": "code",
   "execution_count": 209,
   "metadata": {},
   "outputs": [
    {
     "name": "stdout",
     "output_type": "stream",
     "text": [
      "Campaign with more clicks\n",
      "campaign_id\n",
      "1178     9577\n",
      "30-34     541\n",
      "35-39     269\n",
      "40-44     288\n",
      "45-49     521\n",
      "916       113\n",
      "936      1984\n",
      "Name: clicks, dtype: int64\n",
      "-------------------------\n",
      "Campaign with more spent\n",
      "campaign_id\n",
      "1178     16577.159998\n",
      "30-34      166.000000\n",
      "35-39       78.000000\n",
      "40-44       88.000000\n",
      "45-49      162.000000\n",
      "916        149.710001\n",
      "936       2893.369999\n",
      "Name: spent, dtype: float64\n",
      "--------------------------\n",
      "Campaign with more total conversions\n",
      "campaign_id\n",
      "1178     1050.0\n",
      "30-34       0.0\n",
      "35-39       0.0\n",
      "40-44       0.0\n",
      "45-49       0.0\n",
      "916        58.0\n",
      "936       537.0\n",
      "Name: total_conversion, dtype: float64\n",
      "---------------------------\n",
      "Campaign with more ad count\n",
      "campaign_id\n",
      "1178     243\n",
      "30-34     99\n",
      "35-39     68\n",
      "40-44     71\n",
      "45-49    144\n",
      "916       54\n",
      "936      464\n",
      "Name: ad_id, dtype: int64\n",
      "===========================\n"
     ]
    }
   ],
   "source": [
    "# cost analysis\n",
    "print('Campaign with more clicks')\n",
    "print((df.groupby(['campaign_id'])).clicks.sum())\n",
    "print('-------------------------')\n",
    "\n",
    "print('Campaign with more spent')\n",
    "print((df.groupby(['campaign_id'])).spent.sum())\n",
    "print('--------------------------')\n",
    "\n",
    "print('Campaign with more total conversions')\n",
    "print((df.groupby(['campaign_id'])).total_conversion.sum())\n",
    "print('---------------------------')\n",
    "\n",
    "print('Campaign with more ad count')\n",
    "print((df.groupby(['campaign_id'])).ad_id.count())\n",
    "print('===========================')"
   ]
  },
  {
   "cell_type": "code",
   "execution_count": 210,
   "metadata": {},
   "outputs": [
    {
     "data": {
      "text/html": [
       "<div>\n",
       "<style scoped>\n",
       "    .dataframe tbody tr th:only-of-type {\n",
       "        vertical-align: middle;\n",
       "    }\n",
       "\n",
       "    .dataframe tbody tr th {\n",
       "        vertical-align: top;\n",
       "    }\n",
       "\n",
       "    .dataframe thead th {\n",
       "        text-align: right;\n",
       "    }\n",
       "</style>\n",
       "<table border=\"1\" class=\"dataframe\">\n",
       "  <thead>\n",
       "    <tr style=\"text-align: right;\">\n",
       "      <th></th>\n",
       "      <th>ad_id</th>\n",
       "      <th>AdText</th>\n",
       "      <th>reporting_start</th>\n",
       "      <th>reporting_end</th>\n",
       "      <th>campaign_id</th>\n",
       "      <th>Location</th>\n",
       "      <th>Placements</th>\n",
       "      <th>fb_campaign_id</th>\n",
       "      <th>PeopleWhoMatch</th>\n",
       "      <th>age</th>\n",
       "      <th>...</th>\n",
       "      <th>interest3</th>\n",
       "      <th>impressions</th>\n",
       "      <th>clicks</th>\n",
       "      <th>spent</th>\n",
       "      <th>total_conversion</th>\n",
       "      <th>approved_conversion</th>\n",
       "      <th>CTR</th>\n",
       "      <th>CPC</th>\n",
       "      <th>CPM</th>\n",
       "      <th>CPA</th>\n",
       "    </tr>\n",
       "  </thead>\n",
       "  <tbody>\n",
       "    <tr>\n",
       "      <th>518</th>\n",
       "      <td>1121091</td>\n",
       "      <td>Funnylnst</td>\n",
       "      <td>28/08/2017</td>\n",
       "      <td>28/08/2017</td>\n",
       "      <td>1178</td>\n",
       "      <td>United States</td>\n",
       "      <td>Instagram Feed</td>\n",
       "      <td>144531</td>\n",
       "      <td>NaN</td>\n",
       "      <td>45</td>\n",
       "      <td>...</td>\n",
       "      <td>15</td>\n",
       "      <td>1194718.0</td>\n",
       "      <td>141</td>\n",
       "      <td>254.05</td>\n",
       "      <td>28.0</td>\n",
       "      <td>14.0</td>\n",
       "      <td>0.01</td>\n",
       "      <td>1.80</td>\n",
       "      <td>0.21</td>\n",
       "      <td>9.07</td>\n",
       "    </tr>\n",
       "    <tr>\n",
       "      <th>519</th>\n",
       "      <td>1121092</td>\n",
       "      <td>Breaking news, latest news and current States!...</td>\n",
       "      <td>28/08/2017</td>\n",
       "      <td>28/08/2017</td>\n",
       "      <td>1178</td>\n",
       "      <td>United States</td>\n",
       "      <td>Instagram Feed</td>\n",
       "      <td>144531</td>\n",
       "      <td>NaN</td>\n",
       "      <td>45</td>\n",
       "      <td>...</td>\n",
       "      <td>11</td>\n",
       "      <td>637648.0</td>\n",
       "      <td>67</td>\n",
       "      <td>122.40</td>\n",
       "      <td>13.0</td>\n",
       "      <td>5.0</td>\n",
       "      <td>0.01</td>\n",
       "      <td>1.83</td>\n",
       "      <td>0.19</td>\n",
       "      <td>9.42</td>\n",
       "    </tr>\n",
       "    <tr>\n",
       "      <th>520</th>\n",
       "      <td>1121094</td>\n",
       "      <td>You know, every great accomplishment began wit...</td>\n",
       "      <td>28/08/2017</td>\n",
       "      <td>28/08/2017</td>\n",
       "      <td>1178</td>\n",
       "      <td>United States</td>\n",
       "      <td>Instagram Feed</td>\n",
       "      <td>144531</td>\n",
       "      <td>NaN</td>\n",
       "      <td>45</td>\n",
       "      <td>...</td>\n",
       "      <td>15</td>\n",
       "      <td>24362.0</td>\n",
       "      <td>0</td>\n",
       "      <td>0.00</td>\n",
       "      <td>1.0</td>\n",
       "      <td>1.0</td>\n",
       "      <td>0.00</td>\n",
       "      <td>0.00</td>\n",
       "      <td>0.00</td>\n",
       "      <td>0.00</td>\n",
       "    </tr>\n",
       "    <tr>\n",
       "      <th>521</th>\n",
       "      <td>1121095</td>\n",
       "      <td>Stop liberal ignorance! Don't tolerate them de...</td>\n",
       "      <td>28/08/2017</td>\n",
       "      <td>28/08/2017</td>\n",
       "      <td>1178</td>\n",
       "      <td>United States: Texas</td>\n",
       "      <td>Instagram Feed</td>\n",
       "      <td>144531</td>\n",
       "      <td>NaN</td>\n",
       "      <td>45</td>\n",
       "      <td>...</td>\n",
       "      <td>12</td>\n",
       "      <td>459690.0</td>\n",
       "      <td>50</td>\n",
       "      <td>86.33</td>\n",
       "      <td>5.0</td>\n",
       "      <td>2.0</td>\n",
       "      <td>0.01</td>\n",
       "      <td>1.73</td>\n",
       "      <td>0.19</td>\n",
       "      <td>17.27</td>\n",
       "    </tr>\n",
       "    <tr>\n",
       "      <th>522</th>\n",
       "      <td>1121096</td>\n",
       "      <td>This is the oldest African American museum in ...</td>\n",
       "      <td>28/08/2017</td>\n",
       "      <td>28/08/2017</td>\n",
       "      <td>1178</td>\n",
       "      <td>United States</td>\n",
       "      <td>Instagram Feed</td>\n",
       "      <td>144531</td>\n",
       "      <td>NaN</td>\n",
       "      <td>45</td>\n",
       "      <td>...</td>\n",
       "      <td>16</td>\n",
       "      <td>750060.0</td>\n",
       "      <td>86</td>\n",
       "      <td>161.91</td>\n",
       "      <td>11.0</td>\n",
       "      <td>2.0</td>\n",
       "      <td>0.01</td>\n",
       "      <td>1.88</td>\n",
       "      <td>0.22</td>\n",
       "      <td>14.72</td>\n",
       "    </tr>\n",
       "  </tbody>\n",
       "</table>\n",
       "<p>5 rows × 25 columns</p>\n",
       "</div>"
      ],
      "text/plain": [
       "       ad_id                                             AdText  \\\n",
       "518  1121091                                          Funnylnst   \n",
       "519  1121092  Breaking news, latest news and current States!...   \n",
       "520  1121094  You know, every great accomplishment began wit...   \n",
       "521  1121095  Stop liberal ignorance! Don't tolerate them de...   \n",
       "522  1121096  This is the oldest African American museum in ...   \n",
       "\n",
       "    reporting_start reporting_end campaign_id              Location  \\\n",
       "518      28/08/2017    28/08/2017        1178         United States   \n",
       "519      28/08/2017    28/08/2017        1178         United States   \n",
       "520      28/08/2017    28/08/2017        1178         United States   \n",
       "521      28/08/2017    28/08/2017        1178  United States: Texas   \n",
       "522      28/08/2017    28/08/2017        1178         United States   \n",
       "\n",
       "         Placements fb_campaign_id PeopleWhoMatch  age  ... interest3  \\\n",
       "518  Instagram Feed         144531            NaN   45  ...        15   \n",
       "519  Instagram Feed         144531            NaN   45  ...        11   \n",
       "520  Instagram Feed         144531            NaN   45  ...        15   \n",
       "521  Instagram Feed         144531            NaN   45  ...        12   \n",
       "522  Instagram Feed         144531            NaN   45  ...        16   \n",
       "\n",
       "    impressions clicks   spent  total_conversion  approved_conversion   CTR  \\\n",
       "518   1194718.0    141  254.05              28.0                 14.0  0.01   \n",
       "519    637648.0     67  122.40              13.0                  5.0  0.01   \n",
       "520     24362.0      0    0.00               1.0                  1.0  0.00   \n",
       "521    459690.0     50   86.33               5.0                  2.0  0.01   \n",
       "522    750060.0     86  161.91              11.0                  2.0  0.01   \n",
       "\n",
       "      CPC   CPM    CPA  \n",
       "518  1.80  0.21   9.07  \n",
       "519  1.83  0.19   9.42  \n",
       "520  0.00  0.00   0.00  \n",
       "521  1.73  0.19  17.27  \n",
       "522  1.88  0.22  14.72  \n",
       "\n",
       "[5 rows x 25 columns]"
      ]
     },
     "execution_count": 210,
     "metadata": {},
     "output_type": "execute_result"
    }
   ],
   "source": [
    "dfm = df.query('campaign_id ==\"1178\"').round(2)\n",
    "dfm.head()"
   ]
  },
  {
   "cell_type": "code",
   "execution_count": 211,
   "metadata": {},
   "outputs": [
    {
     "name": "stdout",
     "output_type": "stream",
     "text": [
      "The cost per click of campaign 1178 is 1.7310222407852145\n",
      "The cost per conversion of campaign 1178 is 15.788571428571428\n",
      "The cost per ad in campaign 1178 is 68.22222222222223\n"
     ]
    }
   ],
   "source": [
    "campaign_1178_clicks = 9577\n",
    "campaign_1178_cost = 16578\n",
    "campaign_1178_conv = 1050\n",
    "campaign_1178_adcount = 243\n",
    "campaign_1178_cpc = (campaign_1178_cost/campaign_1178_clicks)\n",
    "campaign_1178_cpa = (campaign_1178_cost/campaign_1178_conv)\n",
    "campaign_1178_cpad = (campaign_1178_cost/campaign_1178_adcount)\n",
    "\n",
    "print('The cost per click of campaign 1178 is '+ str(campaign_1178_cpc))\n",
    "print('The cost per conversion of campaign 1178 is '+ str(campaign_1178_cpa))\n",
    "print('The cost per ad in campaign 1178 is '+ str(campaign_1178_cpad))\n"
   ]
  },
  {
   "cell_type": "code",
   "execution_count": 212,
   "metadata": {},
   "outputs": [
    {
     "name": "stdout",
     "output_type": "stream",
     "text": [
      "The cost per click of campaign 916 is 1.3274336283185841\n",
      "The cost per conversion of campaign 916 is 2.586206896551724\n",
      "The cost per ad in campaign 916 is 2.7777777777777777\n"
     ]
    }
   ],
   "source": [
    "campaign_916_clicks = 113\n",
    "campaign_916_cost = 150\n",
    "campaign_916_conv = 58\n",
    "campaign_916_adcount = 54\n",
    "campaign_916_cpc = (campaign_916_cost/campaign_916_clicks)\n",
    "campaign_916_cpa = (campaign_916_cost/campaign_916_conv)\n",
    "campaign_916_cpad = (campaign_916_cost/campaign_916_adcount)\n",
    "\n",
    "print('The cost per click of campaign 916 is '+ str(campaign_916_cpc))\n",
    "print('The cost per conversion of campaign 916 is '+ str(campaign_916_cpa))\n",
    "print('The cost per ad in campaign 916 is '+ str(campaign_916_cpad))\n"
   ]
  },
  {
   "cell_type": "code",
   "execution_count": 213,
   "metadata": {},
   "outputs": [
    {
     "name": "stdout",
     "output_type": "stream",
     "text": [
      "The cost per click of campaign 936 is 1.4586693548387097\n",
      "The cost per conversion of campaign 936 is 5.389199255121043\n",
      "The cost per ad in campaign 936 is 6.237068965517241\n",
      "-----------------\n"
     ]
    }
   ],
   "source": [
    "campaign_936_clicks = 1984\n",
    "campaign_936_cost = 2894\n",
    "campaign_936_conv = 537\n",
    "campaign_936_adcount = 464\n",
    "campaign_936_cpc = (campaign_936_cost/campaign_936_clicks)\n",
    "campaign_936_cpa = (campaign_936_cost/campaign_936_conv)\n",
    "campaign_936_cpad = (campaign_936_cost/campaign_936_adcount)\n",
    "\n",
    "print('The cost per click of campaign 936 is '+ str(campaign_936_cpc))\n",
    "print('The cost per conversion of campaign 936 is '+ str(campaign_936_cpa))\n",
    "print('The cost per ad in campaign 936 is '+ str(campaign_936_cpad))\n",
    "print(\"-----------------\")"
   ]
  },
  {
   "cell_type": "markdown",
   "metadata": {},
   "source": [
    "##### 916 is the most efficient and profitable campaign.\n",
    "* The cpc and cost per conversion is very low compared other campaigns\n",
    "* If we scale up the campaign 916 to the budget of campaign 1178 we might drive 5 times more results of campaign 1178\n",
    "\n",
    "* Total budget 916 is 6.23 and genrate 1.45 CPC-    6.23*5= 31.15 cost with 7.25 CPC\n",
    "* Total budget 1178 is 68.22 and generate 1.73 CPC-  68.22*5 = 341.11 cost with  8.65 CPC"
   ]
  },
  {
   "cell_type": "code",
   "execution_count": 214,
   "metadata": {},
   "outputs": [],
   "source": [
    "#insert 916 and 1178 in 2 different variable\n",
    "df_916 = df.query('campaign_id ==\"916\"')\n",
    "df_1178 = df.query('campaign_id ==\"916\"')"
   ]
  },
  {
   "cell_type": "code",
   "execution_count": 215,
   "metadata": {},
   "outputs": [
    {
     "data": {
      "text/html": [
       "<div>\n",
       "<style scoped>\n",
       "    .dataframe tbody tr th:only-of-type {\n",
       "        vertical-align: middle;\n",
       "    }\n",
       "\n",
       "    .dataframe tbody tr th {\n",
       "        vertical-align: top;\n",
       "    }\n",
       "\n",
       "    .dataframe thead th {\n",
       "        text-align: right;\n",
       "    }\n",
       "</style>\n",
       "<table border=\"1\" class=\"dataframe\">\n",
       "  <thead>\n",
       "    <tr style=\"text-align: right;\">\n",
       "      <th></th>\n",
       "      <th>ad_id</th>\n",
       "      <th>spent</th>\n",
       "      <th>clicks</th>\n",
       "      <th>impressions</th>\n",
       "      <th>CTR</th>\n",
       "      <th>CPC</th>\n",
       "      <th>CPM</th>\n",
       "      <th>CPA</th>\n",
       "    </tr>\n",
       "  </thead>\n",
       "  <tbody>\n",
       "    <tr>\n",
       "      <th>851</th>\n",
       "      <td>1121791</td>\n",
       "      <td>0.0</td>\n",
       "      <td>1</td>\n",
       "      <td>0.00</td>\n",
       "      <td>0.00</td>\n",
       "      <td>0.0</td>\n",
       "      <td>0.00</td>\n",
       "      <td>0.0</td>\n",
       "    </tr>\n",
       "    <tr>\n",
       "      <th>880</th>\n",
       "      <td>1121846</td>\n",
       "      <td>0.0</td>\n",
       "      <td>1</td>\n",
       "      <td>0.00</td>\n",
       "      <td>0.00</td>\n",
       "      <td>0.0</td>\n",
       "      <td>0.00</td>\n",
       "      <td>0.0</td>\n",
       "    </tr>\n",
       "    <tr>\n",
       "      <th>894</th>\n",
       "      <td>1121873</td>\n",
       "      <td>0.0</td>\n",
       "      <td>1</td>\n",
       "      <td>0.00</td>\n",
       "      <td>0.00</td>\n",
       "      <td>0.0</td>\n",
       "      <td>0.00</td>\n",
       "      <td>0.0</td>\n",
       "    </tr>\n",
       "    <tr>\n",
       "      <th>882</th>\n",
       "      <td>1121854</td>\n",
       "      <td>0.0</td>\n",
       "      <td>1</td>\n",
       "      <td>0.00</td>\n",
       "      <td>0.00</td>\n",
       "      <td>0.0</td>\n",
       "      <td>0.00</td>\n",
       "      <td>0.0</td>\n",
       "    </tr>\n",
       "    <tr>\n",
       "      <th>1071</th>\n",
       "      <td>1314330</td>\n",
       "      <td>1.0</td>\n",
       "      <td>1</td>\n",
       "      <td>1.49</td>\n",
       "      <td>67.11</td>\n",
       "      <td>1.0</td>\n",
       "      <td>671.14</td>\n",
       "      <td>0.0</td>\n",
       "    </tr>\n",
       "    <tr>\n",
       "      <th>866</th>\n",
       "      <td>1121820</td>\n",
       "      <td>0.0</td>\n",
       "      <td>0</td>\n",
       "      <td>1.57</td>\n",
       "      <td>0.00</td>\n",
       "      <td>0.0</td>\n",
       "      <td>0.00</td>\n",
       "      <td>0.0</td>\n",
       "    </tr>\n",
       "    <tr>\n",
       "      <th>925</th>\n",
       "      <td>1121953</td>\n",
       "      <td>0.0</td>\n",
       "      <td>1</td>\n",
       "      <td>1.64</td>\n",
       "      <td>60.98</td>\n",
       "      <td>0.0</td>\n",
       "      <td>0.00</td>\n",
       "      <td>0.0</td>\n",
       "    </tr>\n",
       "    <tr>\n",
       "      <th>875</th>\n",
       "      <td>1121839</td>\n",
       "      <td>1.0</td>\n",
       "      <td>1</td>\n",
       "      <td>1.73</td>\n",
       "      <td>57.80</td>\n",
       "      <td>1.0</td>\n",
       "      <td>578.03</td>\n",
       "      <td>0.0</td>\n",
       "    </tr>\n",
       "    <tr>\n",
       "      <th>892</th>\n",
       "      <td>1121869</td>\n",
       "      <td>1.0</td>\n",
       "      <td>1</td>\n",
       "      <td>2.62</td>\n",
       "      <td>38.17</td>\n",
       "      <td>1.0</td>\n",
       "      <td>381.68</td>\n",
       "      <td>0.0</td>\n",
       "    </tr>\n",
       "    <tr>\n",
       "      <th>906</th>\n",
       "      <td>1121897</td>\n",
       "      <td>1.0</td>\n",
       "      <td>1</td>\n",
       "      <td>2.63</td>\n",
       "      <td>38.02</td>\n",
       "      <td>1.0</td>\n",
       "      <td>380.23</td>\n",
       "      <td>0.0</td>\n",
       "    </tr>\n",
       "  </tbody>\n",
       "</table>\n",
       "</div>"
      ],
      "text/plain": [
       "        ad_id  spent  clicks  impressions    CTR  CPC     CPM  CPA\n",
       "851   1121791    0.0       1         0.00   0.00  0.0    0.00  0.0\n",
       "880   1121846    0.0       1         0.00   0.00  0.0    0.00  0.0\n",
       "894   1121873    0.0       1         0.00   0.00  0.0    0.00  0.0\n",
       "882   1121854    0.0       1         0.00   0.00  0.0    0.00  0.0\n",
       "1071  1314330    1.0       1         1.49  67.11  1.0  671.14  0.0\n",
       "866   1121820    0.0       0         1.57   0.00  0.0    0.00  0.0\n",
       "925   1121953    0.0       1         1.64  60.98  0.0    0.00  0.0\n",
       "875   1121839    1.0       1         1.73  57.80  1.0  578.03  0.0\n",
       "892   1121869    1.0       1         2.62  38.17  1.0  381.68  0.0\n",
       "906   1121897    1.0       1         2.63  38.02  1.0  380.23  0.0"
      ]
     },
     "execution_count": 215,
     "metadata": {},
     "output_type": "execute_result"
    }
   ],
   "source": [
    "# The Least Profitable by Impressions\n",
    "df4= df.sort_values(by=['impressions'], ascending=True).head(10)\n",
    "df4= df4[[\"ad_id\",\"spent\",\"clicks\",'impressions','CTR','CPC','CPM',\"CPA\"]].round(2)\n",
    "df4\n",
    "\n",
    "#df.nsmallest(10, 'CPC')"
   ]
  },
  {
   "cell_type": "code",
   "execution_count": null,
   "metadata": {},
   "outputs": [],
   "source": []
  },
  {
   "cell_type": "markdown",
   "metadata": {},
   "source": [
    "## gender analysis"
   ]
  },
  {
   "cell_type": "code",
   "execution_count": 216,
   "metadata": {},
   "outputs": [
    {
     "data": {
      "text/plain": [
       "M     486\n",
       "F     275\n",
       "31     19\n",
       "30     15\n",
       "24     14\n",
       "     ... \n",
       "5       1\n",
       "11      1\n",
       "12      1\n",
       "4       1\n",
       "41      1\n",
       "Name: gender, Length: 63, dtype: int64"
      ]
     },
     "execution_count": 216,
     "metadata": {},
     "output_type": "execute_result"
    }
   ],
   "source": [
    "#See the value in gender column, we have some fake value like to number \n",
    "df[\"gender\"].value_counts(dropna=False)"
   ]
  },
  {
   "cell_type": "code",
   "execution_count": 217,
   "metadata": {},
   "outputs": [],
   "source": [
    "#replace numeric value with nan, \"mask numeric with nan\""
   ]
  },
  {
   "cell_type": "code",
   "execution_count": 218,
   "metadata": {},
   "outputs": [],
   "source": [
    "df_gender= df['gender'] = df['gender'].mask(pd.to_numeric(df['gender'], errors='coerce').notna())"
   ]
  },
  {
   "cell_type": "code",
   "execution_count": 219,
   "metadata": {},
   "outputs": [
    {
     "data": {
      "text/plain": [
       "M      486\n",
       "NaN    382\n",
       "F      275\n",
       "Name: gender, dtype: int64"
      ]
     },
     "execution_count": 219,
     "metadata": {},
     "output_type": "execute_result"
    }
   ],
   "source": [
    "df_gender.value_counts(dropna=False)"
   ]
  },
  {
   "cell_type": "code",
   "execution_count": 220,
   "metadata": {},
   "outputs": [
    {
     "name": "stdout",
     "output_type": "stream",
     "text": [
      "gender with more total conversions\n",
      "gender\n",
      "F     322.0\n",
      "M    1323.0\n",
      "Name: total_conversion, dtype: float64\n",
      "---------------------------\n",
      "gender with more ads\n",
      "gender\n",
      "F    275\n",
      "M    486\n",
      "Name: ad_id, dtype: int64\n"
     ]
    }
   ],
   "source": [
    "print('gender with more total conversions')\n",
    "print((df.groupby(['gender'])).total_conversion.sum())\n",
    "\n",
    "print('---------------------------')\n",
    "\n",
    "print('gender with more ads')\n",
    "print((df.groupby(['gender'])).ad_id.count())"
   ]
  },
  {
   "cell_type": "code",
   "execution_count": 221,
   "metadata": {},
   "outputs": [
    {
     "name": "stdout",
     "output_type": "stream",
     "text": [
      "ad campaign 916\n",
      "gender with more total conversions\n",
      "gender\n",
      "F    20.0\n",
      "M    38.0\n",
      "Name: total_conversion, dtype: float64\n",
      "----------\n",
      "gender with more ads\n",
      "gender\n",
      "F    19\n",
      "M    35\n",
      "Name: ad_id, dtype: int64\n",
      "---------------------------\n",
      "ad campaign 1178\n",
      "gender with more total conversions\n",
      "gender\n",
      "F    20.0\n",
      "M    38.0\n",
      "Name: total_conversion, dtype: float64\n",
      "----------\n",
      "gender with more ads\n",
      "gender\n",
      "F    19\n",
      "M    35\n",
      "Name: ad_id, dtype: int64\n"
     ]
    }
   ],
   "source": [
    "print('ad campaign 916')\n",
    "\n",
    "print('gender with more total conversions')\n",
    "print((df_916.groupby(['gender'])).total_conversion.sum())\n",
    "print('----------')\n",
    "print('gender with more ads')\n",
    "print((df_916.groupby(['gender'])).ad_id.count())\n",
    "\n",
    "print('---------------------------')\n",
    "print('ad campaign 1178')\n",
    "\n",
    "print('gender with more total conversions')\n",
    "print((df_1178.groupby(['gender'])).total_conversion.sum())\n",
    "print('----------')\n",
    "print('gender with more ads')\n",
    "print((df_1178.groupby(['gender'])).ad_id.count())"
   ]
  },
  {
   "cell_type": "code",
   "execution_count": 222,
   "metadata": {},
   "outputs": [
    {
     "data": {
      "text/plain": [
       "<matplotlib.axes._subplots.AxesSubplot at 0x1e0e36c3fa0>"
      ]
     },
     "execution_count": 222,
     "metadata": {},
     "output_type": "execute_result"
    },
    {
     "data": {
      "image/png": "[encoded data removed]",
      "text/plain": [
       "<Figure size 432x288 with 1 Axes>"
      ]
     },
     "metadata": {
      "needs_background": "light"
     },
     "output_type": "display_data"
    }
   ],
   "source": [
    "import seaborn as sns\n",
    "sns.countplot(df.gender)"
   ]
  },
  {
   "cell_type": "markdown",
   "metadata": {},
   "source": [
    "### Age Analysis"
   ]
  },
  {
   "cell_type": "code",
   "execution_count": 223,
   "metadata": {},
   "outputs": [],
   "source": [
    "# See the value in column\n",
    "#df[\"age\"].value_counts(dropna=False)"
   ]
  },
  {
   "cell_type": "code",
   "execution_count": 224,
   "metadata": {},
   "outputs": [
    {
     "data": {
      "text/plain": [
       "0        30\n",
       "1        30\n",
       "2        30\n",
       "3        30\n",
       "4        30\n",
       "       ... \n",
       "1138    109\n",
       "1139    110\n",
       "1140    111\n",
       "1141    113\n",
       "1142     49\n",
       "Name: age, Length: 1143, dtype: int32"
      ]
     },
     "execution_count": 224,
     "metadata": {},
     "output_type": "execute_result"
    }
   ],
   "source": [
    "# change column data type\n",
    "df[\"age\"].astype(int)"
   ]
  },
  {
   "cell_type": "code",
   "execution_count": 225,
   "metadata": {},
   "outputs": [],
   "source": [
    "# create a new column with generation by age \n",
    "bins= [0,23,39,45,74,150]\n",
    "labels = ['Gen Z (0-23)','Gen Y (25-39)','Gen X (40-49)','Boomers(50-74)','Boomers inf(74-inf)']\n",
    "df['age generations'] = pd.cut(df['age'], bins=bins, labels=labels, right=False)"
   ]
  },
  {
   "cell_type": "code",
   "execution_count": 226,
   "metadata": {},
   "outputs": [
    {
     "data": {
      "text/html": [
       "<div>\n",
       "<style scoped>\n",
       "    .dataframe tbody tr th:only-of-type {\n",
       "        vertical-align: middle;\n",
       "    }\n",
       "\n",
       "    .dataframe tbody tr th {\n",
       "        vertical-align: top;\n",
       "    }\n",
       "\n",
       "    .dataframe thead th {\n",
       "        text-align: right;\n",
       "    }\n",
       "</style>\n",
       "<table border=\"1\" class=\"dataframe\">\n",
       "  <thead>\n",
       "    <tr style=\"text-align: right;\">\n",
       "      <th></th>\n",
       "      <th>ad_id</th>\n",
       "      <th>AdText</th>\n",
       "      <th>reporting_start</th>\n",
       "      <th>reporting_end</th>\n",
       "      <th>campaign_id</th>\n",
       "      <th>Location</th>\n",
       "      <th>Placements</th>\n",
       "      <th>fb_campaign_id</th>\n",
       "      <th>PeopleWhoMatch</th>\n",
       "      <th>age</th>\n",
       "      <th>...</th>\n",
       "      <th>impressions</th>\n",
       "      <th>clicks</th>\n",
       "      <th>spent</th>\n",
       "      <th>total_conversion</th>\n",
       "      <th>approved_conversion</th>\n",
       "      <th>CTR</th>\n",
       "      <th>CPC</th>\n",
       "      <th>CPM</th>\n",
       "      <th>CPA</th>\n",
       "      <th>age generations</th>\n",
       "    </tr>\n",
       "  </thead>\n",
       "  <tbody>\n",
       "    <tr>\n",
       "      <th>0</th>\n",
       "      <td>708746</td>\n",
       "      <td>Join us because we care. Black matters.</td>\n",
       "      <td>17/08/2017</td>\n",
       "      <td>17/08/2017</td>\n",
       "      <td>916</td>\n",
       "      <td>United States: Baltimore (+20 km) Maryland; St...</td>\n",
       "      <td>News Feed on desktop computers or News Feed on...</td>\n",
       "      <td>103916</td>\n",
       "      <td>NaN</td>\n",
       "      <td>30</td>\n",
       "      <td>...</td>\n",
       "      <td>7350.0</td>\n",
       "      <td>1</td>\n",
       "      <td>1.43</td>\n",
       "      <td>2.0</td>\n",
       "      <td>1.0</td>\n",
       "      <td>0.013605</td>\n",
       "      <td>1.43</td>\n",
       "      <td>0.194558</td>\n",
       "      <td>0.715</td>\n",
       "      <td>Gen Y (25-39)</td>\n",
       "    </tr>\n",
       "  </tbody>\n",
       "</table>\n",
       "<p>1 rows × 26 columns</p>\n",
       "</div>"
      ],
      "text/plain": [
       "    ad_id                                   AdText reporting_start  \\\n",
       "0  708746  Join us because we care. Black matters.      17/08/2017   \n",
       "\n",
       "  reporting_end campaign_id  \\\n",
       "0    17/08/2017         916   \n",
       "\n",
       "                                            Location  \\\n",
       "0  United States: Baltimore (+20 km) Maryland; St...   \n",
       "\n",
       "                                          Placements fb_campaign_id  \\\n",
       "0  News Feed on desktop computers or News Feed on...         103916   \n",
       "\n",
       "  PeopleWhoMatch  age  ... impressions clicks spent  total_conversion  \\\n",
       "0            NaN   30  ...      7350.0      1  1.43               2.0   \n",
       "\n",
       "   approved_conversion       CTR   CPC       CPM    CPA  age generations  \n",
       "0                  1.0  0.013605  1.43  0.194558  0.715    Gen Y (25-39)  \n",
       "\n",
       "[1 rows x 26 columns]"
      ]
     },
     "execution_count": 226,
     "metadata": {},
     "output_type": "execute_result"
    }
   ],
   "source": [
    "df.head(1)"
   ]
  },
  {
   "cell_type": "code",
   "execution_count": 227,
   "metadata": {},
   "outputs": [],
   "source": [
    "# create new column age range with range of age \n",
    "bins = [18, 30, 40, 50, 60, 70, 120]\n",
    "labels = ['18-29', '30-39', '40-49', '50-59', '60-69', '70+']\n",
    "df['agerange'] = pd.cut(df.age, bins, labels = labels,include_lowest = True)"
   ]
  },
  {
   "cell_type": "code",
   "execution_count": 228,
   "metadata": {},
   "outputs": [
    {
     "data": {
      "text/html": [
       "<div>\n",
       "<style scoped>\n",
       "    .dataframe tbody tr th:only-of-type {\n",
       "        vertical-align: middle;\n",
       "    }\n",
       "\n",
       "    .dataframe tbody tr th {\n",
       "        vertical-align: top;\n",
       "    }\n",
       "\n",
       "    .dataframe thead th {\n",
       "        text-align: right;\n",
       "    }\n",
       "</style>\n",
       "<table border=\"1\" class=\"dataframe\">\n",
       "  <thead>\n",
       "    <tr style=\"text-align: right;\">\n",
       "      <th></th>\n",
       "      <th>ad_id</th>\n",
       "      <th>AdText</th>\n",
       "      <th>reporting_start</th>\n",
       "      <th>reporting_end</th>\n",
       "      <th>campaign_id</th>\n",
       "      <th>Location</th>\n",
       "      <th>Placements</th>\n",
       "      <th>fb_campaign_id</th>\n",
       "      <th>PeopleWhoMatch</th>\n",
       "      <th>age</th>\n",
       "      <th>...</th>\n",
       "      <th>clicks</th>\n",
       "      <th>spent</th>\n",
       "      <th>total_conversion</th>\n",
       "      <th>approved_conversion</th>\n",
       "      <th>CTR</th>\n",
       "      <th>CPC</th>\n",
       "      <th>CPM</th>\n",
       "      <th>CPA</th>\n",
       "      <th>age generations</th>\n",
       "      <th>agerange</th>\n",
       "    </tr>\n",
       "  </thead>\n",
       "  <tbody>\n",
       "    <tr>\n",
       "      <th>0</th>\n",
       "      <td>708746</td>\n",
       "      <td>Join us because we care. Black matters.</td>\n",
       "      <td>17/08/2017</td>\n",
       "      <td>17/08/2017</td>\n",
       "      <td>916</td>\n",
       "      <td>United States: Baltimore (+20 km) Maryland; St...</td>\n",
       "      <td>News Feed on desktop computers or News Feed on...</td>\n",
       "      <td>103916</td>\n",
       "      <td>NaN</td>\n",
       "      <td>30</td>\n",
       "      <td>...</td>\n",
       "      <td>1</td>\n",
       "      <td>1.43</td>\n",
       "      <td>2.0</td>\n",
       "      <td>1.0</td>\n",
       "      <td>0.013605</td>\n",
       "      <td>1.43</td>\n",
       "      <td>0.194558</td>\n",
       "      <td>0.715</td>\n",
       "      <td>Gen Y (25-39)</td>\n",
       "      <td>18-29</td>\n",
       "    </tr>\n",
       "  </tbody>\n",
       "</table>\n",
       "<p>1 rows × 27 columns</p>\n",
       "</div>"
      ],
      "text/plain": [
       "    ad_id                                   AdText reporting_start  \\\n",
       "0  708746  Join us because we care. Black matters.      17/08/2017   \n",
       "\n",
       "  reporting_end campaign_id  \\\n",
       "0    17/08/2017         916   \n",
       "\n",
       "                                            Location  \\\n",
       "0  United States: Baltimore (+20 km) Maryland; St...   \n",
       "\n",
       "                                          Placements fb_campaign_id  \\\n",
       "0  News Feed on desktop computers or News Feed on...         103916   \n",
       "\n",
       "  PeopleWhoMatch  age  ... clicks spent total_conversion  approved_conversion  \\\n",
       "0            NaN   30  ...      1  1.43              2.0                  1.0   \n",
       "\n",
       "        CTR   CPC       CPM    CPA  age generations  agerange  \n",
       "0  0.013605  1.43  0.194558  0.715    Gen Y (25-39)     18-29  \n",
       "\n",
       "[1 rows x 27 columns]"
      ]
     },
     "execution_count": 228,
     "metadata": {},
     "output_type": "execute_result"
    }
   ],
   "source": [
    "df.head(1)"
   ]
  },
  {
   "cell_type": "code",
   "execution_count": 229,
   "metadata": {},
   "outputs": [
    {
     "data": {
      "text/plain": [
       "30-39    491\n",
       "18-29    326\n",
       "70+       94\n",
       "40-49     89\n",
       "60-69     75\n",
       "50-59      0\n",
       "Name: agerange, dtype: int64"
      ]
     },
     "execution_count": 229,
     "metadata": {},
     "output_type": "execute_result"
    }
   ],
   "source": [
    "df[\"agerange\"].value_counts()"
   ]
  },
  {
   "cell_type": "code",
   "execution_count": 230,
   "metadata": {
    "scrolled": true
   },
   "outputs": [
    {
     "data": {
      "text/plain": [
       "<matplotlib.axes._subplots.AxesSubplot at 0x1e0f707ce20>"
      ]
     },
     "execution_count": 230,
     "metadata": {},
     "output_type": "execute_result"
    },
    {
     "data": {
      "image/png": "[encoded data removed]",
      "text/plain": [
       "<Figure size 432x288 with 1 Axes>"
      ]
     },
     "metadata": {
      "needs_background": "light"
     },
     "output_type": "display_data"
    }
   ],
   "source": [
    "import seaborn as sns\n",
    "sns.countplot(df.agerange)"
   ]
  },
  {
   "cell_type": "code",
   "execution_count": 235,
   "metadata": {},
   "outputs": [
    {
     "name": "stdout",
     "output_type": "stream",
     "text": [
      "agerange\n",
      "18-29     199.0\n",
      "30-39    1062.0\n",
      "40-49     320.0\n",
      "50-59       0.0\n",
      "60-69      42.0\n",
      "70+         0.0\n",
      "Name: total_conversion, dtype: float64\n",
      "agerange\n",
      "18-29    326\n",
      "30-39    491\n",
      "40-49     89\n",
      "50-59      0\n",
      "60-69     75\n",
      "70+       94\n",
      "Name: ad_id, dtype: int64\n"
     ]
    }
   ],
   "source": [
    "print((df.groupby(['agerange'])).total_conversion.sum())\n",
    "print((df.groupby(['agerange'])).ad_id.count())"
   ]
  },
  {
   "cell_type": "code",
   "execution_count": 242,
   "metadata": {
    "scrolled": true
   },
   "outputs": [
    {
     "name": "stdout",
     "output_type": "stream",
     "text": [
      "AD CAMPAIGN  916\n",
      "age with more total conversions\n",
      "age\n",
      "30     9.0\n",
      "31     9.0\n",
      "32    12.0\n",
      "39     4.0\n",
      "40     8.0\n",
      "41     5.0\n",
      "42     5.0\n",
      "44     6.0\n",
      "Name: total_conversion, dtype: float64\n",
      "----------\n",
      "age with more ads\n",
      "age\n",
      "30     7\n",
      "31     9\n",
      "32    11\n",
      "39     4\n",
      "40     8\n",
      "41     5\n",
      "42     5\n",
      "44     5\n",
      "Name: ad_id, dtype: int64\n",
      "-----------------\n",
      "AD CAMPAIGN 1178\n",
      "age with more total conversions\n",
      "age\n",
      "30     9.0\n",
      "31     9.0\n",
      "32    12.0\n",
      "39     4.0\n",
      "40     8.0\n",
      "41     5.0\n",
      "42     5.0\n",
      "44     6.0\n",
      "Name: total_conversion, dtype: float64\n",
      "age with more ads\n",
      "age\n",
      "30     7\n",
      "31     9\n",
      "32    11\n",
      "39     4\n",
      "40     8\n",
      "41     5\n",
      "42     5\n",
      "44     5\n",
      "Name: ad_id, dtype: int64\n"
     ]
    }
   ],
   "source": [
    "print(\"AD CAMPAIGN  916\")\n",
    "\n",
    "print('age with more total conversions')\n",
    "print((df_916.groupby(['age'])).total_conversion.sum())\n",
    "print('----------')\n",
    "print('age with more ads')\n",
    "print((df_916.groupby(['age'])).ad_id.count())\n",
    "\n",
    "print(\"-----------------\")\n",
    "\n",
    "\n",
    "print('AD CAMPAIGN 1178')\n",
    "\n",
    "print('age with more total conversions')\n",
    "print((df_1178.groupby(['age'])).total_conversion.sum())\n",
    "print('age with more ads')\n",
    "print((df_1178.groupby(['age'])).ad_id.count())\n"
   ]
  },
  {
   "cell_type": "markdown",
   "metadata": {},
   "source": [
    "* Though we can get more conversion by targeting 30-39 and 40-49,\n",
    "* in there range of 30-49 the age 30,31,32, 40 convert much more. \n",
    "\n",
    "\n",
    "* The number of ads are also different. but we focus the budget for 30-39 and 18-29, \n",
    "* this last range of data generate low conversion.\n",
    "\n",
    "\n",
    "* campaign 916 and 1178 have the same age conversion and cost."
   ]
  },
  {
   "cell_type": "code",
   "execution_count": 246,
   "metadata": {},
   "outputs": [],
   "source": [
    "#Return on advertising Spent (ROAS) which helps looking at the revenue as a percentage of the advertising spent.\n",
    "\n",
    "#The following formula will be used for ROAS:\n",
    "#ROAS = Revenue / Cost = (5* Total_Conversion + 50* Approved_Conversion) / Cost\n",
    "df[\"Roas\"] =  (df[ \"total_conversion\"]*5)  +  (df[\"approved_conversion\"]*50) / df[\"spent\"]"
   ]
  },
  {
   "cell_type": "code",
   "execution_count": 247,
   "metadata": {},
   "outputs": [
    {
     "data": {
      "text/html": [
       "<div>\n",
       "<style scoped>\n",
       "    .dataframe tbody tr th:only-of-type {\n",
       "        vertical-align: middle;\n",
       "    }\n",
       "\n",
       "    .dataframe tbody tr th {\n",
       "        vertical-align: top;\n",
       "    }\n",
       "\n",
       "    .dataframe thead th {\n",
       "        text-align: right;\n",
       "    }\n",
       "</style>\n",
       "<table border=\"1\" class=\"dataframe\">\n",
       "  <thead>\n",
       "    <tr style=\"text-align: right;\">\n",
       "      <th></th>\n",
       "      <th>ad_id</th>\n",
       "      <th>AdText</th>\n",
       "      <th>reporting_start</th>\n",
       "      <th>reporting_end</th>\n",
       "      <th>campaign_id</th>\n",
       "      <th>Location</th>\n",
       "      <th>Placements</th>\n",
       "      <th>fb_campaign_id</th>\n",
       "      <th>PeopleWhoMatch</th>\n",
       "      <th>age</th>\n",
       "      <th>...</th>\n",
       "      <th>spent</th>\n",
       "      <th>total_conversion</th>\n",
       "      <th>approved_conversion</th>\n",
       "      <th>CTR</th>\n",
       "      <th>CPC</th>\n",
       "      <th>CPM</th>\n",
       "      <th>CPA</th>\n",
       "      <th>age generations</th>\n",
       "      <th>agerange</th>\n",
       "      <th>Roas</th>\n",
       "    </tr>\n",
       "  </thead>\n",
       "  <tbody>\n",
       "    <tr>\n",
       "      <th>0</th>\n",
       "      <td>708746</td>\n",
       "      <td>Join us because we care. Black matters.</td>\n",
       "      <td>17/08/2017</td>\n",
       "      <td>17/08/2017</td>\n",
       "      <td>916</td>\n",
       "      <td>United States: Baltimore (+20 km) Maryland; St...</td>\n",
       "      <td>News Feed on desktop computers or News Feed on...</td>\n",
       "      <td>103916</td>\n",
       "      <td>NaN</td>\n",
       "      <td>30</td>\n",
       "      <td>...</td>\n",
       "      <td>1.43</td>\n",
       "      <td>2.0</td>\n",
       "      <td>1.0</td>\n",
       "      <td>0.013605</td>\n",
       "      <td>1.43</td>\n",
       "      <td>0.194558</td>\n",
       "      <td>0.715</td>\n",
       "      <td>Gen Y (25-39)</td>\n",
       "      <td>18-29</td>\n",
       "      <td>44.965036</td>\n",
       "    </tr>\n",
       "  </tbody>\n",
       "</table>\n",
       "<p>1 rows × 28 columns</p>\n",
       "</div>"
      ],
      "text/plain": [
       "    ad_id                                   AdText reporting_start  \\\n",
       "0  708746  Join us because we care. Black matters.      17/08/2017   \n",
       "\n",
       "  reporting_end campaign_id  \\\n",
       "0    17/08/2017         916   \n",
       "\n",
       "                                            Location  \\\n",
       "0  United States: Baltimore (+20 km) Maryland; St...   \n",
       "\n",
       "                                          Placements fb_campaign_id  \\\n",
       "0  News Feed on desktop computers or News Feed on...         103916   \n",
       "\n",
       "  PeopleWhoMatch  age  ... spent total_conversion approved_conversion  \\\n",
       "0            NaN   30  ...  1.43              2.0                 1.0   \n",
       "\n",
       "        CTR   CPC       CPM    CPA  age generations  agerange       Roas  \n",
       "0  0.013605  1.43  0.194558  0.715    Gen Y (25-39)     18-29  44.965036  \n",
       "\n",
       "[1 rows x 28 columns]"
      ]
     },
     "execution_count": 247,
     "metadata": {},
     "output_type": "execute_result"
    }
   ],
   "source": [
    "df.head(1)"
   ]
  },
  {
   "cell_type": "markdown",
   "metadata": {},
   "source": [
    "# FINAL REPORT\n",
    "\n",
    "* The ideal campaign for the most efficient results can be created with the following metrics:\n",
    "* Gender : M\n",
    "* Age : 30 to 49 \n",
    "* Interest Match : People who like Being Patriotic and Black Matters\n",
    "* Location: United States /  Baltimore Maryland; Ferguson, St. Louis Missouri; Cleveland Ohio\n",
    "* comunication : News Feed on desktop/mobile or Instagram Feed "
   ]
  },
  {
   "cell_type": "code",
   "execution_count": null,
   "metadata": {},
   "outputs": [],
   "source": []
  }
 ],
 "metadata": {
  "kernelspec": {
   "display_name": "Python 3",
   "language": "python",
   "name": "python3"
  },
  "language_info": {
   "codemirror_mode": {
    "name": "ipython",
    "version": 3
   },
   "file_extension": ".py",
   "mimetype": "text/x-python",
   "name": "python",
   "nbconvert_exporter": "python",
   "pygments_lexer": "ipython3",
   "version": "3.8.1"
  }
 },
 "nbformat": 4,
 "nbformat_minor": 4
}
